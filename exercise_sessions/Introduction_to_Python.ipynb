{
 "cells": [
  {
   "cell_type": "markdown",
   "metadata": {},
   "source": [
    "# Introduction to Python"
   ]
  },
  {
   "cell_type": "markdown",
   "metadata": {},
   "source": [
    "### If you have any questions, you can contact me at:\n",
    "- anna.ivagnes@sissa.it \n",
    "\n",
    "Office: A-402 (4-th floor, SISSA)\n",
    "\n",
    "At the end of this notebook there are some exercises aimed to absolute Python beginners. "
   ]
  },
  {
   "cell_type": "markdown",
   "metadata": {},
   "source": [
    "### Comments\n",
    "A comment in Python starts with `#` and extends to the end of the physical line."
   ]
  },
  {
   "cell_type": "markdown",
   "metadata": {},
   "source": [
    "### Operations with numbers\n",
    "\n",
    "Python notebooks are interactive. You can use cells as calculators. Operations work as one would expect:"
   ]
  },
  {
   "cell_type": "code",
   "execution_count": 112,
   "metadata": {},
   "outputs": [
    {
     "name": "stdout",
     "output_type": "stream",
     "text": [
      "a =  2\n",
      "a after incrementing =  4\n"
     ]
    }
   ],
   "source": [
    "a = 2 \n",
    "print(\"a = \", a)\n",
    "a = a + 2 #This is not an equation! The value of a is incremented \n",
    "print(\"a after incrementing = \", a)"
   ]
  },
  {
   "cell_type": "markdown",
   "metadata": {},
   "source": [
    "Python comes with many types. (You can think of a type as a particular implementation of a concept). Let's see some of them."
   ]
  },
  {
   "cell_type": "code",
   "execution_count": 113,
   "metadata": {},
   "outputs": [
    {
     "name": "stdout",
     "output_type": "stream",
     "text": [
      "<class 'int'>\n",
      "<class 'float'>\n",
      "<class 'bool'>\n",
      "<class 'bool'>\n"
     ]
    }
   ],
   "source": [
    "#You can query the type of a variable\n",
    "print(type(a)) #integer\n",
    "print(type(2.5)) #float\n",
    "\n",
    "print(type(True))\n",
    "print(type(False))"
   ]
  },
  {
   "cell_type": "markdown",
   "metadata": {},
   "source": [
    "## Strings\n",
    "\n",
    "A string is a sequence of characters."
   ]
  },
  {
   "cell_type": "code",
   "execution_count": 114,
   "metadata": {
    "colab": {
     "base_uri": "https://localhost:8080/"
    },
    "executionInfo": {
     "elapsed": 5,
     "status": "ok",
     "timestamp": 1665059350023,
     "user": {
      "displayName": "Marco Feder",
      "userId": "16486619197905854806"
     },
     "user_tz": -120
    },
    "id": "IU8qlCRyQBvi",
    "outputId": "7578f61e-a86d-4120-9eef-14c62c941fbb"
   },
   "outputs": [
    {
     "name": "stdout",
     "output_type": "stream",
     "text": [
      "this is a string\n",
      "this is another string\n",
      "this is a string and this is another string\n"
     ]
    }
   ],
   "source": [
    "s = \"this is a string\"\n",
    "print(s)\n",
    "s2 = 'this is another string' \n",
    "print(s2)\n",
    "\n",
    "#You can do operations supported by objects of type string. For instance, you can concatenate two strings using the + operator\n",
    "print(s + \" and \" + s2)"
   ]
  },
  {
   "cell_type": "markdown",
   "metadata": {},
   "source": [
    "You can access an element of the strings above by using the `[]` operator.\n",
    "\n",
    "**Note:** Python uses zero-based indexing. Therefore, first element has index 0, the second has index 1, and so on.\n",
    "The last element can be accessed with the index -1"
   ]
  },
  {
   "cell_type": "code",
   "execution_count": 115,
   "metadata": {},
   "outputs": [
    {
     "name": "stdout",
     "output_type": "stream",
     "text": [
      "s[2] =  i\n"
     ]
    }
   ],
   "source": [
    "print(\"s[2] = \", s[2])"
   ]
  },
  {
   "cell_type": "code",
   "execution_count": 116,
   "metadata": {},
   "outputs": [
    {
     "name": "stdout",
     "output_type": "stream",
     "text": [
      "s[0] =  t\n",
      "s[3] =  s\n",
      "s[5] =  i\n",
      "s[-1] =  g\n"
     ]
    },
    {
     "ename": "IndexError",
     "evalue": "string index out of range",
     "output_type": "error",
     "traceback": [
      "\u001b[0;31m---------------------------------------------------------------------------\u001b[0m",
      "\u001b[0;31mIndexError\u001b[0m                                Traceback (most recent call last)",
      "Cell \u001b[0;32mIn[116], line 9\u001b[0m\n\u001b[1;32m      6\u001b[0m \u001b[38;5;28mprint\u001b[39m(\u001b[38;5;124m\"\u001b[39m\u001b[38;5;124ms[-1] = \u001b[39m\u001b[38;5;124m\"\u001b[39m, s[\u001b[38;5;241m-\u001b[39m\u001b[38;5;241m1\u001b[39m]) \n\u001b[1;32m      8\u001b[0m \u001b[38;5;66;03m#What happens if you try to access element with index 20\u001b[39;00m\n\u001b[0;32m----> 9\u001b[0m \u001b[43ms\u001b[49m\u001b[43m[\u001b[49m\u001b[38;5;241;43m20\u001b[39;49m\u001b[43m]\u001b[49m \u001b[38;5;66;03m#--> string index out of range\u001b[39;00m\n",
      "\u001b[0;31mIndexError\u001b[0m: string index out of range"
     ]
    }
   ],
   "source": [
    "#Let's access some other elements of the string\n",
    "print(\"s[0] = \", s[0])\n",
    "print(\"s[3] = \", s[3])\n",
    "print(\"s[5] = \", s[5])\n",
    "\n",
    "print(\"s[-1] = \", s[-1]) \n",
    "\n",
    "#What happens if you try to access element with index 20\n",
    "s[20] #--> string index out of range"
   ]
  },
  {
   "cell_type": "markdown",
   "metadata": {},
   "source": [
    "You can replace or extract elements in strings."
   ]
  },
  {
   "cell_type": "code",
   "execution_count": null,
   "metadata": {},
   "outputs": [],
   "source": [
    "# Let's try duplicated in strings\n",
    "string1 = 'NA'*6\n",
    "string2 = \"BATMAN\"\n",
    "print(string1 + string2)\n",
    "\n",
    "# Strings are immutable\n",
    "#string2[2] = \"R\" --> TypeError: 'str' object does not support item assignment\n",
    "# ... but we can use the replace() function\n",
    "string2 = string2.replace('B', 'R')\n",
    "print(string2)"
   ]
  },
  {
   "cell_type": "markdown",
   "metadata": {},
   "source": [
    "### Strings slicing"
   ]
  },
  {
   "cell_type": "code",
   "execution_count": null,
   "metadata": {},
   "outputs": [],
   "source": [
    "# Extract sequences\n",
    "print(string2[:]) # entire list\n",
    "print(string2[3:]) # from fourth to last element\n",
    "print(string2[3:-1]) # indeces can be negative\n",
    "print(string2[:3]) # from first to third element"
   ]
  },
  {
   "cell_type": "markdown",
   "metadata": {},
   "source": [
    "We can also split a string, remove a character from it, capitalize the first word, ..."
   ]
  },
  {
   "cell_type": "code",
   "execution_count": null,
   "metadata": {},
   "outputs": [],
   "source": [
    "print(string2.strip(\"N\"))\n",
    "print(string2.lower())\n",
    "print(string2.capitalize())"
   ]
  },
  {
   "cell_type": "markdown",
   "metadata": {},
   "source": [
    "We can try for example to convert a string into an integer."
   ]
  },
  {
   "cell_type": "code",
   "execution_count": null,
   "metadata": {},
   "outputs": [],
   "source": [
    "string_number = \"10\"\n",
    "print(type(string_number))\n",
    "number = int(string_number)\n",
    "print(type(number))"
   ]
  },
  {
   "cell_type": "markdown",
   "metadata": {},
   "source": [
    "### Keywords\n",
    "- Python keywords cannot be used as variable names. "
   ]
  },
  {
   "cell_type": "code",
   "execution_count": null,
   "metadata": {
    "colab": {
     "base_uri": "https://localhost:8080/",
     "height": 133
    },
    "executionInfo": {
     "elapsed": 8,
     "status": "error",
     "timestamp": 1665059419733,
     "user": {
      "displayName": "Marco Feder",
      "userId": "16486619197905854806"
     },
     "user_tz": -120
    },
    "id": "TTnY0C3MQnCC",
    "outputId": "a4e90548-c5ed-4967-dcfa-3a96fd3e1881"
   },
   "outputs": [],
   "source": [
    "if = 2 \n",
    "#The same holds for all the other keywords"
   ]
  },
  {
   "cell_type": "markdown",
   "metadata": {},
   "source": [
    "## Lists\n",
    " - implemented as *dynamic array*: elements are stored contiguously in memory, allowing for efficient iteration through the list\n",
    " - mutable\n",
    " - resizable\n",
    " - heterogeneous container (you may have objects of different types)\n",
    "\n",
    " There are many ways to initialize a list:"
   ]
  },
  {
   "cell_type": "code",
   "execution_count": null,
   "metadata": {},
   "outputs": [],
   "source": [
    "l = [] #this is an empty list\n",
    "print(type(l)) \n",
    "ll = list() #this is another empty list\n",
    "print(\"ll = \", ll)"
   ]
  },
  {
   "cell_type": "code",
   "execution_count": null,
   "metadata": {},
   "outputs": [],
   "source": [
    "#You can initialize a list \"manually\"\n",
    "lh = [1, 2, \"pippo\", []]\n",
    "print(\"lh = \", lh)"
   ]
  },
  {
   "cell_type": "code",
   "execution_count": null,
   "metadata": {},
   "outputs": [],
   "source": [
    "#You can initalize with a range:\n",
    "lr = list(range(10)) #10 not included, as before\n",
    "lr[3] = 20 #change element with index 3\n",
    "print(\"lr = \", lr)"
   ]
  },
  {
   "cell_type": "markdown",
   "metadata": {},
   "source": [
    "You can query the length (i.e. the number of elements) of a list with `len()` "
   ]
  },
  {
   "cell_type": "code",
   "execution_count": null,
   "metadata": {},
   "outputs": [],
   "source": [
    "print(\"The length of lr is:\", len(lr))"
   ]
  },
  {
   "cell_type": "markdown",
   "metadata": {},
   "source": [
    "You can use the method `append()` to add an element at the end of the list. This is something that you may need whenever you have no a-priori knowledge of the length of your list."
   ]
  },
  {
   "cell_type": "code",
   "execution_count": null,
   "metadata": {},
   "outputs": [],
   "source": [
    "#append an element to empty list l\n",
    "print(\"l = \", l)\n",
    "l.append(\"this string\")\n",
    "print(\"l after first append(): \", l)\n",
    "l.append(\"another string\")\n",
    "print(\"l after second append(): \", l)\n",
    "print(\"l[-1]\", l[-1]) #to get the last element."
   ]
  },
  {
   "cell_type": "code",
   "execution_count": null,
   "metadata": {},
   "outputs": [],
   "source": [
    "#Other possible methods for a list:\n",
    "l = [2, 4, 5, 67, 7, 4]\n",
    "print(\"The number 67 has index: \",l.index(67))\n",
    "\n",
    "# You can remove elements by index or value:\n",
    "l.pop(0)\n",
    "l.remove(67)\n",
    "print(\"l after pop and remove: \", l)\n",
    "\n",
    "#You can clear a list:\n",
    "l.clear()\n",
    "print(\"l after clear(): \",l)"
   ]
  },
  {
   "cell_type": "markdown",
   "metadata": {},
   "source": [
    "There are many methods that you can play with. Have a look at the documentation of `list` and try to get familiar with it! https://docs.python.org/3/tutorial/datastructures.html"
   ]
  },
  {
   "cell_type": "markdown",
   "metadata": {},
   "source": [
    "### List Slicing\n",
    " - `list[start:stop:step]` note that `[start:stop)`\n",
    " - if omitted `start==0`\n",
    " - if `stop` is omitted means till last element **included**\n",
    " - if omitted `step==1`"
   ]
  },
  {
   "cell_type": "code",
   "execution_count": null,
   "metadata": {},
   "outputs": [],
   "source": [
    "l = [44, 5, 6, 7, 6, 7, 8, 9, 5, 4, 20]\n",
    "print(\"Original list:\", l)\n",
    "start = 0\n",
    "stop = 4\n",
    "step = 1\n",
    "print(l[start:stop])  # items start through stop-1\n",
    "print(l[start:])  # items start through the rest of the list\n",
    "print(l[:stop])  # items from the beginning through stop-1\n",
    "print(l[:])  # a copy of the whole list\n",
    "print(l[:-1])  # last element is *excluded*"
   ]
  },
  {
   "cell_type": "markdown",
   "metadata": {},
   "source": [
    "### Sorting a list\n",
    "\n",
    "- `l.sort()` sorts the list in place => original list is modified \n",
    "- `sorted(l)` returns a new list, and the original one is untouched"
   ]
  },
  {
   "cell_type": "code",
   "execution_count": null,
   "metadata": {
    "colab": {
     "base_uri": "https://localhost:8080/"
    },
    "executionInfo": {
     "elapsed": 3,
     "status": "ok",
     "timestamp": 1665060771636,
     "user": {
      "displayName": "Marco Feder",
      "userId": "16486619197905854806"
     },
     "user_tz": -120
    },
    "id": "vk4PAJg6WDqv",
    "outputId": "53e402c6-71be-4477-b824-8bf74f1cf3ee"
   },
   "outputs": [],
   "source": [
    "l = [210, 2, 3, 5, 3, 2, 56, 4, 564, 3]\n",
    "print(\"l before sorting: \", l)\n",
    "l.sort() #in-place sorting. The list l is modified\n",
    "print(\"l after sorting: \", l)"
   ]
  },
  {
   "cell_type": "code",
   "execution_count": null,
   "metadata": {
    "colab": {
     "base_uri": "https://localhost:8080/"
    },
    "executionInfo": {
     "elapsed": 359,
     "status": "ok",
     "timestamp": 1665060818415,
     "user": {
      "displayName": "Marco Feder",
      "userId": "16486619197905854806"
     },
     "user_tz": -120
    },
    "id": "IJxPLtxrWwhT",
    "outputId": "4ff4b149-73bc-46c7-ab65-cc3d60161c28"
   },
   "outputs": [],
   "source": [
    "l = [210, 2, 3, 5, 3, 2, 56, 4, 564, 3]\n",
    "new_list = sorted(l) #returns a new list\n",
    "print(\"original l: \", l)\n",
    "print(\"new_list: \", new_list)"
   ]
  },
  {
   "cell_type": "markdown",
   "metadata": {},
   "source": [
    "## Tuples\n",
    "- immutable, cannot add or change objects after construction\n",
    "- can be created in different ways\n",
    "- use less space than lists"
   ]
  },
  {
   "cell_type": "code",
   "execution_count": null,
   "metadata": {
    "executionInfo": {
     "elapsed": 822,
     "status": "ok",
     "timestamp": 1665062015226,
     "user": {
      "displayName": "Marco Feder",
      "userId": "16486619197905854806"
     },
     "user_tz": -120
    },
    "id": "OdZ0lPf8bYLY"
   },
   "outputs": [],
   "source": [
    "#Creation from an empty tuple\n",
    "t = () #empty tuple"
   ]
  },
  {
   "cell_type": "code",
   "execution_count": null,
   "metadata": {},
   "outputs": [],
   "source": [
    "#Create a tuple manually\n",
    "th = (1, 2, 4, 5, 6, 7, 4, 2, \"a wild string\")\n",
    "print(\"t = \",th)"
   ]
  },
  {
   "cell_type": "code",
   "execution_count": null,
   "metadata": {},
   "outputs": [],
   "source": [
    "#You can slice a tuple\n",
    "tr = tuple(range(10))\n",
    "print(\"tr = \", tr)\n",
    "start = 0\n",
    "stop = 4\n",
    "step = 1\n",
    "print(tr[start:stop])  # items start through stop-1\n",
    "print(tr[start:])  # items start through the rest of the tuple\n",
    "print(tr[:stop])  # items from the beginning through stop-1\n",
    "print(tr[:])  # a copy of the tuple list\n",
    "print(tr[:-1])  # last element is *excluded*"
   ]
  },
  {
   "cell_type": "markdown",
   "metadata": {},
   "source": [
    "Unlike lists, tuples cannot be modified. You can see this from the error message given once the next cell is executed."
   ]
  },
  {
   "cell_type": "code",
   "execution_count": null,
   "metadata": {},
   "outputs": [],
   "source": [
    "#t[2] = 4 #error 'tuple' object does not support item assignment"
   ]
  },
  {
   "cell_type": "markdown",
   "metadata": {},
   "source": [
    "### Packing and unpacking tuples\n",
    "- Can improve readability of your code"
   ]
  },
  {
   "cell_type": "code",
   "execution_count": null,
   "metadata": {
    "colab": {
     "base_uri": "https://localhost:8080/"
    },
    "executionInfo": {
     "elapsed": 4,
     "status": "ok",
     "timestamp": 1665062275686,
     "user": {
      "displayName": "Marco Feder",
      "userId": "16486619197905854806"
     },
     "user_tz": -120
    },
    "id": "mDS8J82_bxrL",
    "outputId": "e1d572ec-c332-4913-d389-baa07b030819"
   },
   "outputs": [],
   "source": [
    "#Tuple packing\n",
    "a = \"Hi\"\n",
    "b = \"everybody\"\n",
    "packed_tuple = (a, b) #packing a and b into the tuple t\n",
    "print(\"packed_tuple = \", packed_tuple)"
   ]
  },
  {
   "cell_type": "code",
   "execution_count": null,
   "metadata": {},
   "outputs": [],
   "source": [
    "#Tuple unpacking\n",
    "c, d = packed_tuple\n",
    "print(c)\n",
    "print(d)"
   ]
  },
  {
   "cell_type": "markdown",
   "metadata": {},
   "source": [
    "When you unpack, you can ignore certain elements using `_`"
   ]
  },
  {
   "cell_type": "code",
   "execution_count": null,
   "metadata": {},
   "outputs": [],
   "source": [
    "#Let's unpack **only** the \"color\" elements\n",
    "tcolors = (\"red\", \"blue\",\"snake\",\"yellow\",\"dog\")\n",
    "r,b,_,y,_ = tcolors"
   ]
  },
  {
   "cell_type": "markdown",
   "metadata": {},
   "source": [
    "What if your tuple is *really* long and you want just the first 4 elements?"
   ]
  },
  {
   "cell_type": "code",
   "execution_count": null,
   "metadata": {},
   "outputs": [],
   "source": [
    "my_long_tuple = tuple(range(10000))\n",
    "a, b, c, d, *rest = my_long_tuple\n",
    "#if you want to ignore them, you can also do:\n",
    "e, f, g, d, *_ = my_long_tuple\n",
    "print(e, f, g, d)"
   ]
  },
  {
   "cell_type": "markdown",
   "metadata": {},
   "source": [
    "Creating a tuple is faster than creating a list.\t"
   ]
  },
  {
   "cell_type": "code",
   "execution_count": null,
   "metadata": {
    "colab": {
     "base_uri": "https://localhost:8080/"
    },
    "executionInfo": {
     "elapsed": 14441,
     "status": "ok",
     "timestamp": 1665062664551,
     "user": {
      "displayName": "Marco Feder",
      "userId": "16486619197905854806"
     },
     "user_tz": -120
    },
    "id": "Sca6oEDucNHE",
    "outputId": "9e0918a4-7fb8-4c33-8042-d0bd15c7f26c"
   },
   "outputs": [],
   "source": [
    "%timeit l = [1, 2, 3, 5, 6, 4, 5, 4, 5, 4, 6, 6] #list\n",
    "%timeit t = (1, 2, 3, 5, 6, 4, 5, 4, 5, 4, 6, 6) #tuple"
   ]
  },
  {
   "cell_type": "markdown",
   "metadata": {},
   "source": [
    "## Dictionaries\n",
    "- unordered pairs of (keys, values)"
   ]
  },
  {
   "cell_type": "code",
   "execution_count": null,
   "metadata": {},
   "outputs": [],
   "source": [
    "# Initialize a dictionary\n",
    "city = {'name': 'Trieste', 'population': 204338}\n",
    "city['population'] = 200000 # update value\n",
    "city['postal_code'] = 34100 # add entry\n",
    "print(city)"
   ]
  },
  {
   "cell_type": "code",
   "execution_count": null,
   "metadata": {},
   "outputs": [],
   "source": [
    "print(city.get('name')) # print value of a specified key\n",
    "print(\"keys: \", city.keys())\n",
    "print(\"values: \", city.values())\n",
    "print(\"items: \", city.items())"
   ]
  },
  {
   "cell_type": "markdown",
   "metadata": {},
   "source": [
    "## The `if`, `for`, `while` statements\n",
    "- `if`, `elif`, `else` \n",
    "\n",
    "``` python\n",
    "if <condition1>:\n",
    "    <body>\n",
    "elif <condition2>:\n",
    "    <body>\n",
    "else:\n",
    "    <body>\n",
    "```\n",
    "\n",
    "These are valid *Boolean expressions* that you can use\n",
    "- `==`\n",
    "- `!=`\n",
    "- `<=`\n",
    "- `>=`\n",
    "- `and`\n",
    "- `not`\n",
    "- `or`\n"
   ]
  },
  {
   "cell_type": "code",
   "execution_count": null,
   "metadata": {
    "colab": {
     "base_uri": "https://localhost:8080/"
    },
    "executionInfo": {
     "elapsed": 3,
     "status": "ok",
     "timestamp": 1665059724502,
     "user": {
      "displayName": "Marco Feder",
      "userId": "16486619197905854806"
     },
     "user_tz": -120
    },
    "id": "sJ8uYRanRmwp",
    "outputId": "793cff01-405c-41a8-c1c1-80e79fd009e7"
   },
   "outputs": [],
   "source": [
    "d = 20\n",
    "if (d>20):\n",
    "    print(\"Greater than 20!\")\n",
    "else:\n",
    "    print(\"Less or equal than 20!\")\n",
    "\n",
    "is_d_equal_to_20 = d==20 #this is valid! On the right, we get a boolean variable\n",
    "print(\"is_d_equal_to_20 = \", is_d_equal_to_20)\n",
    "\n",
    "b = True #Capital T (in C/C++ it's true)\n",
    "if(b):\n",
    "    print(\"b is true\")"
   ]
  },
  {
   "cell_type": "markdown",
   "metadata": {},
   "source": [
    "### Loops\n",
    "\n",
    "* `for`\n",
    "* `range([start,]stop[,step])` \n",
    "\n",
    "``` python\n",
    "for <var> in <set_of_values>: \n",
    "    <body>\n",
    "```\n",
    "\n",
    "***Note:*** Ranges are closed on the left, and open on the right. (If you are curious: https://www.cs.utexas.edu/users/EWD/ewd08xx/EWD831.PDF)"
   ]
  },
  {
   "cell_type": "code",
   "execution_count": null,
   "metadata": {
    "colab": {
     "base_uri": "https://localhost:8080/"
    },
    "executionInfo": {
     "elapsed": 3,
     "status": "ok",
     "timestamp": 1665059984408,
     "user": {
      "displayName": "Marco Feder",
      "userId": "16486619197905854806"
     },
     "user_tz": -120
    },
    "id": "bfYQOB5ER74B",
    "outputId": "b1ab042b-b1ea-4a29-e42f-8d5cbb7bad68"
   },
   "outputs": [],
   "source": [
    "#Loop over the first ten integer numbers.\n",
    "for i in range(11):\n",
    "    print(\"i = \",i + 1)\n",
    "\n",
    "start = 0\n",
    "stop = 20\n",
    "step = 2\n",
    "for elem in range(start, stop, step):\n",
    "    print(\"elem = \", elem)"
   ]
  },
  {
   "cell_type": "markdown",
   "metadata": {},
   "source": [
    "\n",
    "``` python    \n",
    "while <true_condition>:\n",
    "    <body> \n",
    "``` "
   ]
  },
  {
   "cell_type": "code",
   "execution_count": null,
   "metadata": {
    "colab": {
     "base_uri": "https://localhost:8080/"
    },
    "executionInfo": {
     "elapsed": 4,
     "status": "ok",
     "timestamp": 1665060060813,
     "user": {
      "displayName": "Marco Feder",
      "userId": "16486619197905854806"
     },
     "user_tz": -120
    },
    "id": "Qw9vqQbvT6cl",
    "outputId": "b2fc13f0-4fff-450e-becc-abd538753568"
   },
   "outputs": [],
   "source": [
    "counter = 0\n",
    "while(counter < 20):\n",
    "    counter = counter + 1\n",
    "    print(\"counter = \", counter)\n",
    "while True:\n",
    "    counter += 1\n",
    "    if counter > 23:\n",
    "        break\n",
    "    print(\"counter = \", counter)"
   ]
  },
  {
   "cell_type": "markdown",
   "metadata": {},
   "source": [
    "\n"
   ]
  },
  {
   "cell_type": "markdown",
   "metadata": {},
   "source": [
    "### List comprehensions\n",
    "A comprehension is a Pythonic way to create data structures from one or more iterators.\n",
    "\n",
    "Let's try with an exercise:\n",
    "Given a list of strings, return the sum of all squares of the numeric strings (strings that cannot be converted to an int should not be considered in the sum)"
   ]
  },
  {
   "cell_type": "code",
   "execution_count": 4,
   "metadata": {},
   "outputs": [
    {
     "name": "stdout",
     "output_type": "stream",
     "text": [
      "140\n",
      "140\n"
     ]
    }
   ],
   "source": [
    "mylist = [\"a\", 3, 7, \"b\", 9, 1, dict()]\n",
    "\n",
    "# first (non-compact) way\n",
    "sum_squares = 0\n",
    "for el in mylist:\n",
    "    if type(el)==int:\n",
    "        sum_squares += el**2\n",
    "print(sum_squares)\n",
    "\n",
    "# second (compact) way\n",
    "sum_squares = sum(el**2 for el in mylist if type(el)==int)\n",
    "print(sum_squares)"
   ]
  },
  {
   "cell_type": "markdown",
   "metadata": {},
   "source": [
    "## Functions\n",
    "```python\n",
    "def function_name(arg1, arg2, arg3):\n",
    "    '''Documentation'''\n",
    "    body of the function\n",
    "```\n",
    "* `return` statement is optional"
   ]
  },
  {
   "cell_type": "code",
   "execution_count": 5,
   "metadata": {},
   "outputs": [
    {
     "name": "stdout",
     "output_type": "stream",
     "text": [
      "Your x =  20\n"
     ]
    }
   ],
   "source": [
    "def first_function(x):\n",
    "  '''Our first function simply prints the given value.'''\n",
    "  print(\"Your x = \", x)\n",
    "\n",
    "first_function(20) "
   ]
  },
  {
   "cell_type": "code",
   "execution_count": 6,
   "metadata": {},
   "outputs": [
    {
     "name": "stdout",
     "output_type": "stream",
     "text": [
      "Help on function first_function in module __main__:\n",
      "\n",
      "first_function(x)\n",
      "    Our first function simply prints the given value.\n",
      "\n"
     ]
    }
   ],
   "source": [
    "help(first_function) #display the documentation of our function"
   ]
  },
  {
   "cell_type": "code",
   "execution_count": 7,
   "metadata": {
    "colab": {
     "base_uri": "https://localhost:8080/"
    },
    "executionInfo": {
     "elapsed": 220,
     "status": "ok",
     "timestamp": 1665063014861,
     "user": {
      "displayName": "Marco Feder",
      "userId": "16486619197905854806"
     },
     "user_tz": -120
    },
    "id": "Hyj9TwmMeFGP",
    "outputId": "c7f01644-912c-42f2-b2f2-801da991f6fe"
   },
   "outputs": [
    {
     "name": "stdout",
     "output_type": "stream",
     "text": [
      "Lab part for DSSC and LM students.\n"
     ]
    }
   ],
   "source": [
    "def my_string_function(s1, s2):\n",
    "  return \"Lab part for \" + s1 + \" and \" + s2 + \" students.\" #concatenation of strings\n",
    "\n",
    "s1 = \"DSSC\"\n",
    "s2 = \"LM\"\n",
    "print(my_string_function(s1, s2))"
   ]
  },
  {
   "cell_type": "code",
   "execution_count": 8,
   "metadata": {
    "colab": {
     "base_uri": "https://localhost:8080/"
    },
    "executionInfo": {
     "elapsed": 243,
     "status": "ok",
     "timestamp": 1665063227798,
     "user": {
      "displayName": "Marco Feder",
      "userId": "16486619197905854806"
     },
     "user_tz": -120
    },
    "id": "h4LscC6Oek2L",
    "outputId": "545f2434-8c5e-4c26-fd5f-6c157284561b"
   },
   "outputs": [
    {
     "name": "stdout",
     "output_type": "stream",
     "text": [
      "441\n"
     ]
    }
   ],
   "source": [
    "#Other simple examples\n",
    "def func(x):\n",
    "  x = x + 1 #increment x\n",
    "  return x*x #take the square of the value just incremented\n",
    "\n",
    "\n",
    "c = 20\n",
    "print(func(c))"
   ]
  },
  {
   "cell_type": "markdown",
   "metadata": {},
   "source": [
    "### Keyword and positional arguments\n",
    "I can call the function `func` above in two ways:\n",
    "- `func(20)` -> positional argument\n",
    "- `func(x = 20)` -> keyword argument\n",
    "\n",
    "*Positional argument* means that the argument must be provided in a correct position in a function call. \n",
    "\n",
    "Let's see an example:"
   ]
  },
  {
   "cell_type": "code",
   "execution_count": null,
   "metadata": {},
   "outputs": [],
   "source": [
    "def info_about_you(name, language):\n",
    "  print(\"Hi, I am \"+ name + \" and I speak \" + language)"
   ]
  },
  {
   "cell_type": "markdown",
   "metadata": {},
   "source": [
    "Here the order **matters**. Indeed, this makes sense:\n"
   ]
  },
  {
   "cell_type": "code",
   "execution_count": 117,
   "metadata": {},
   "outputs": [
    {
     "name": "stdout",
     "output_type": "stream",
     "text": [
      "Hi, I am Pluto and I speak german\n"
     ]
    }
   ],
   "source": [
    "info_about_you(\"Pluto\", \"german\")"
   ]
  },
  {
   "cell_type": "markdown",
   "metadata": {},
   "source": [
    "while this doesn't\n"
   ]
  },
  {
   "cell_type": "code",
   "execution_count": 118,
   "metadata": {},
   "outputs": [
    {
     "name": "stdout",
     "output_type": "stream",
     "text": [
      "Hi, I am german and I speak Pluto\n"
     ]
    }
   ],
   "source": [
    "info_about_you(\"german\", \"Pluto\") #?!?!"
   ]
  },
  {
   "cell_type": "markdown",
   "metadata": {},
   "source": [
    "- Keyword arguments are passed as a dictionary {key:value,...} (https://docs.python.org/3/tutorial/datastructures.html#dictionaries)\n",
    "- With keyword arguments, the position doesn't matter:"
   ]
  },
  {
   "cell_type": "code",
   "execution_count": 119,
   "metadata": {},
   "outputs": [
    {
     "name": "stdout",
     "output_type": "stream",
     "text": [
      "Hi, I am Winston and I speak english\n"
     ]
    }
   ],
   "source": [
    "info_about_you(language=\"english\", name=\"Winston\")"
   ]
  },
  {
   "cell_type": "markdown",
   "metadata": {},
   "source": [
    "We can pass any number of **positional arguments** using `*` when we define our function. The following function can take many names."
   ]
  },
  {
   "cell_type": "code",
   "execution_count": 120,
   "metadata": {},
   "outputs": [
    {
     "name": "stdout",
     "output_type": "stream",
     "text": [
      "Hi  Luca\n",
      "Hi  Daniel\n",
      "Hi  Peter\n",
      "Hi  Martin\n"
     ]
    }
   ],
   "source": [
    "def many_names(*names):\n",
    "  for name in names:\n",
    "    print(\"Hi \", name)\n",
    "\n",
    "many_names(\"Luca\", \"Daniel\", \"Peter\", \"Martin\")"
   ]
  },
  {
   "cell_type": "markdown",
   "metadata": {},
   "source": [
    "In the same spirit, we can give any number of **keyword arguments** using `**`. "
   ]
  },
  {
   "cell_type": "code",
   "execution_count": 121,
   "metadata": {
    "colab": {
     "base_uri": "https://localhost:8080/"
    },
    "executionInfo": {
     "elapsed": 4,
     "status": "ok",
     "timestamp": 1665063498005,
     "user": {
      "displayName": "Marco Feder",
      "userId": "16486619197905854806"
     },
     "user_tz": -120
    },
    "id": "W6kVlguigCkf",
    "outputId": "9af6625a-a947-408d-a0ef-42e9541521ea"
   },
   "outputs": [
    {
     "name": "stdout",
     "output_type": "stream",
     "text": [
      "my_positional_args (120, 20, 'Hello')\n",
      "my_keywords {'my_key': 'its value'}\n"
     ]
    }
   ],
   "source": [
    "def foo(*my_positional_args, **my_keywords):\n",
    "  print(\"my_positional_args\", my_positional_args)\n",
    "  print(\"my_keywords\", my_keywords)\n",
    "\n",
    "foo(120, 20, \"Hello\", my_key = \"its value\") "
   ]
  },
  {
   "cell_type": "markdown",
   "metadata": {},
   "source": [
    "When you have both keyword and positional arguments, **keyword arguments must be after positional ones**.\n",
    "Indeed, in the next cell you'll get a *SyntaxError*. Check it."
   ]
  },
  {
   "cell_type": "code",
   "execution_count": 122,
   "metadata": {},
   "outputs": [
    {
     "ename": "SyntaxError",
     "evalue": "positional argument follows keyword argument (745457138.py, line 1)",
     "output_type": "error",
     "traceback": [
      "\u001b[0;36m  Cell \u001b[0;32mIn[122], line 1\u001b[0;36m\u001b[0m\n\u001b[0;31m    foo(my_key = \"its value\", 120, 20, \"Hello\") #wrong!\u001b[0m\n\u001b[0m                              ^\u001b[0m\n\u001b[0;31mSyntaxError\u001b[0m\u001b[0;31m:\u001b[0m positional argument follows keyword argument\n"
     ]
    }
   ],
   "source": [
    "foo(my_key = \"its value\", 120, 20, \"Hello\") #wrong!"
   ]
  },
  {
   "cell_type": "markdown",
   "metadata": {},
   "source": [
    "Finally, we can set default values for the arguments. Default arguments take the default value during the function call if we do not pass them.\n",
    "\n",
    "A typical use case is when your algorithm depends on a tolerance, say `tol`, that can be specified by an external user and you decide to set it **by default** to a specific, meaningful, value."
   ]
  },
  {
   "cell_type": "code",
   "execution_count": null,
   "metadata": {},
   "outputs": [],
   "source": [
    "def very_complicated_algorithm(*data, tol = 1e-12):\n",
    "  print(\"tol = \", tol)\n",
    "\n",
    "very_complicated_algorithm(10, 20, 30) #tol has its default value\n",
    "very_complicated_algorithm(10, 20, 30, tol = 1e-15) #set tolerance to 1e-15"
   ]
  },
  {
   "cell_type": "markdown",
   "metadata": {},
   "source": [
    "## Classes\n",
    "A class is an extensible template for creating object, providing initial values for state (attributes) and implementations of behavior (methods). An object refers to a particular instance of a class."
   ]
  },
  {
   "cell_type": "markdown",
   "metadata": {},
   "source": [
    "`self` indicates the instantiated object. **Why?**\n",
    "\n",
    "Because methods are called with:\n",
    "``` python\n",
    "<object>.<method>(arguments)\n",
    "```\n",
    "but the interpreter executes:\n",
    "``` python\n",
    "<class>.<method>(<object>, arguments)\n",
    "```"
   ]
  },
  {
   "cell_type": "code",
   "execution_count": null,
   "metadata": {},
   "outputs": [],
   "source": [
    "class Dog(object):\n",
    "    species = \"Canis lupus familiaris\"\n",
    "    \n",
    "    def __init__(self, name=\"Pippo\"):\n",
    "    \t\tself.name = name\n",
    "        \n",
    "    def run(self):\n",
    "        print(\"my dog is running\")\n",
    "\n",
    "my_dog = Dog(\"Pluto\")\n",
    "your_dog = Dog()\n",
    "print(my_dog.name) # object attribute\n",
    "print(Dog.species) # class attribute\n",
    "my_dog.run() # method"
   ]
  },
  {
   "cell_type": "code",
   "execution_count": null,
   "metadata": {},
   "outputs": [],
   "source": [
    "# Inheriting\n",
    "class Animal(object):\n",
    "    def __init__(self, name=\"Pippo\"):\n",
    "        self.name = name\n",
    "        \n",
    "class Dog(Animal): # Dog inherites all methods and attributes from Animal\n",
    "    species = \"Canis lupus familiaris\"\n",
    "    def bau(self):\n",
    "        print(\"Bau!\")"
   ]
  },
  {
   "cell_type": "code",
   "execution_count": null,
   "metadata": {},
   "outputs": [],
   "source": [
    "# Another example for inheriting\n",
    "class Triangle(object):\n",
    "    def __init__(self, l1, l2, l3):\n",
    "        self.l = [l1, l2, l3]\n",
    "    def perimeter(self):\n",
    "        return sum(self.l)\n",
    "\n",
    "class EquilateralTriangle(Triangle):\n",
    "    def __init__(self, l):\n",
    "        self.l = l\n",
    "    \n",
    "    def perimeter(self):\n",
    "        return 3*self.l\n",
    "\n",
    "my_tria = EquilateralTriangle(5.2)\n",
    "print(my_tria.perimeter()) # 15.6"
   ]
  },
  {
   "cell_type": "markdown",
   "metadata": {},
   "source": [
    "## What's next?\n",
    "We will introduce Numpy, Scipy, and Matplotlib: very useful libraries built in Python."
   ]
  },
  {
   "cell_type": "markdown",
   "metadata": {},
   "source": [
    "### Exercises:\n",
    "\n",
    "**1**) Define a string and print all the characters with even index.\n",
    "\n",
    "**2**) Define a (non-empty) list of integers, and compute:\n",
    "    - its average\n",
    "    - its minimum\n",
    "    - its max\n",
    "\n",
    "**3**) Repeat the same exercise above, but wrapping everything into a function named `get_info` taking as argument a list and returning the average, the minimum and the maximum value.\n",
    "\n",
    "**4**) Given the list `a = [\"burgers\", \"papaya\", \"apple\"]` use the methods `append()`, `insert()`, `pop()`, `remove()`, `index()`, `sort()` to:\n",
    "    - add at the beginning of the list `\"banana\"`\n",
    "    - remove `\"apple\"`\n",
    "    - add at the end `\"hot dog\"`\n",
    "    - sort the list in alphabetical order (a to z)\n",
    "    - remove the last item\n",
    "    - check if `\"hot dog\"` is in the list and find its position\n",
    "\n",
    "**5**) Initialize a dictionary that contains the *strings* from `\"0\"` to `\"4\"` as keys and the *integers* from `0` to `4` as values, then:\n",
    "    - add the pair `(\"5\", 5)`\n",
    "    - update the value of element `\"0\"` with the sum of all values\n",
    "    - create a new dictionary in which keys and values are swapped\n",
    "  \n",
    "**6**) Create a new list that, given as input an integer `N` between 3 and 10, contains all the integer numbers between 1 and `N`. Then:\n",
    "    - for all the even numbers in the list, replace the number with its square;\n",
    "    - print the reverted list (the last number is the first, etc)\n",
    "    - take into consideration a generic input\n",
    "\n",
    "**7**) Write a function that takes a natural number `n` and returns the sum of all the natural numbers from 1 to `n`"
   ]
  },
  {
   "cell_type": "code",
   "execution_count": null,
   "metadata": {},
   "outputs": [],
   "source": []
  }
 ],
 "metadata": {
  "colab": {
   "authorship_tag": "ABX9TyOGHMNiO4MHinmXALozhrXt",
   "collapsed_sections": [],
   "provenance": []
  },
  "kernelspec": {
   "display_name": "Python 3 (ipykernel)",
   "language": "python",
   "name": "python3"
  },
  "language_info": {
   "codemirror_mode": {
    "name": "ipython",
    "version": 3
   },
   "file_extension": ".py",
   "mimetype": "text/x-python",
   "name": "python",
   "nbconvert_exporter": "python",
   "pygments_lexer": "ipython3",
   "version": "3.8.10"
  },
  "vscode": {
   "interpreter": {
    "hash": "375eeea5cc4c545c62025080996310447b6b5ecb7dc6009970be62b87dc1656d"
   }
  }
 },
 "nbformat": 4,
 "nbformat_minor": 4
}
