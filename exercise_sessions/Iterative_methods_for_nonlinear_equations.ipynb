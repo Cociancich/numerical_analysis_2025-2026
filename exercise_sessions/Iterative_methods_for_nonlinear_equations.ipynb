{
 "cells": [
  {
   "cell_type": "markdown",
   "metadata": {
    "ein.tags": [
     "worksheet-0"
    ],
    "id": "c46wACkoTKpI"
   },
   "source": [
    "# Numerical solution of nonlinear equations\n",
    "\n",
    "Given a function $f:I \\subseteq \\mathbb{R} \\to \\mathbb{R}$, we are dealing with the problem of finding $\\alpha\\in\\mathbb{R}$ such that $f(\\alpha)=0$. \n",
    "Methods to solve this kind pf problems are generally iterative, generating a sequence of numbers $x^{(k)}$ that will hopefully converge to $\\alpha$. \n",
    "\n",
    "\n",
    "In this exercise session we will focus on the following methods presented during the course:\n",
    "\n",
    "1. Bisection method\n",
    "2. Newton method\n",
    "3. Chord method\n",
    "4. Secant method\n",
    "5. Fixed point iterations\n",
    "\n",
    "In particular we will implement these methods and compare them by solving a given nonlinear equation.\n",
    "\n"
   ]
  },
  {
   "cell_type": "code",
   "execution_count": null,
   "metadata": {
    "id": "2pMAlqJ-TKpK"
   },
   "outputs": [],
   "source": [
    "import numpy as np\n",
    "import matplotlib.pyplot as plt\n",
    "%matplotlib inline"
   ]
  },
  {
   "cell_type": "markdown",
   "metadata": {},
   "source": [
    "We start from the implementation of a function (Legendre polynomial of order 5). The equation $f(\\alpha)=0$ will then have 5 solutions."
   ]
  },
  {
   "cell_type": "code",
   "execution_count": null,
   "metadata": {
    "autoscroll": "json-false",
    "colab": {
     "base_uri": "https://localhost:8080/",
     "height": 430
    },
    "ein.tags": [
     "worksheet-0"
    ],
    "id": "6ugsjAu8TKpL",
    "outputId": "463d46de-f46e-4c6a-9ef2-af7b7900cc9a"
   },
   "outputs": [],
   "source": [
    "# you can use sympy to differentiate the function ..\n",
    "import sympy as sym\n",
    "t = sym.symbols('t')\n",
    "f_sym = t/8. * (63.*t**4 - 70.*t**2. +15.) # Legendre polynomial of order 5\n",
    "f_prime_sym = sym.diff(f_sym, t)\n",
    "\n",
    "f = sym.lambdify(t, f_sym, 'numpy')\n",
    "f_prime = sym.lambdify(t, f_prime_sym, 'numpy')\n",
    "\n",
    "# ..or you can differentiate by hand\n",
    "def f(t):\n",
    "    return (t/8.0) * (63*t**4 - 70*t**2 + 15)\n",
    "\n",
    "def f_prime(t):\n",
    "    return (1/8.0) * (315*t**4 - 210*t**2 + 15)"
   ]
  },
  {
   "cell_type": "code",
   "execution_count": null,
   "metadata": {},
   "outputs": [],
   "source": [
    "n = 1025\n",
    "x = np.linspace(-1, 1, n)\n",
    "c = np.zeros_like(x)\n",
    "plt.plot(x, f(x))\n",
    "plt.plot(x, c)\n",
    "plt.grid()"
   ]
  },
  {
   "cell_type": "markdown",
   "metadata": {},
   "source": [
    "To compare the algorithms, we start from the same initial point and with the same tollerances and stopping criteria. "
   ]
  },
  {
   "cell_type": "code",
   "execution_count": null,
   "metadata": {
    "id": "QynyKTJFTKpM"
   },
   "outputs": [],
   "source": [
    "# Initial data for the various algorithms\n",
    "\n",
    "# interval in which we seek the solution\n",
    "a = 0.75\n",
    "b = 1.\n",
    "\n",
    "# initial points\n",
    "x0 = (a+b)/2.0\n",
    "x00 = b"
   ]
  },
  {
   "cell_type": "code",
   "execution_count": null,
   "metadata": {
    "id": "aElZ7UNzTKpM"
   },
   "outputs": [],
   "source": [
    "# stopping criteria\n",
    "eps = 1e-10\n",
    "n_max = 1000"
   ]
  },
  {
   "cell_type": "markdown",
   "metadata": {
    "id": "5pLZpXYUTKpN"
   },
   "source": [
    "## Bisection method\n",
    "\n",
    "This method is used to compute the roots of a _continous_ function $f:[a,b]\\to\\mathbb{R}$. \n",
    "Theorem of existence of zeroes for continuos functions states that if $f(a)f(b)<0$, then $f$ has at least one zero in $(a,b)$.\n",
    "By iteratively bisecting the interval, we can generate a sequence of intervals of exponentially decreasing length $(a^{(k)},b^{(k)})$ such that, $\\forall k$, $\\alpha \\in (a^{(k)},b^{(k)})$."
   ]
  },
  {
   "cell_type": "code",
   "execution_count": null,
   "metadata": {
    "colab": {
     "base_uri": "https://localhost:8080/",
     "height": 503
    },
    "id": "dIGkSCBaTKpN",
    "outputId": "dfa965ae-28b6-4318-a882-74cbc4b4a0f3"
   },
   "outputs": [],
   "source": [
    "def bisect(f, a, b, eps, n_max):\n",
    "    \"\"\"\n",
    "    Bisection method for finding a root of a continuous function on [a, b].\n",
    "\n",
    "    Parameters\n",
    "    ----------\n",
    "    f : Callable[[float], float]\n",
    "        The function for which we want to find a root.\n",
    "    a : float\n",
    "        Left endpoint of the interval.\n",
    "    b : float\n",
    "        Right endpoint of the interval.\n",
    "    eps : float\n",
    "        Stopping tolerance. The iteration stops when the error is <= eps.\n",
    "    n_max : int\n",
    "        Maximum number of iterations.\n",
    "\n",
    "    Returns\n",
    "    -------\n",
    "    root : float\n",
    "        Approximate root of f in [a, b].\n",
    "    n_iter : int\n",
    "        Number of iterations performed.\n",
    "    errors : List[float]\n",
    "        History of error estimates at each iteration.\n",
    "\n",
    "    Notes\n",
    "    -----\n",
    "    - The method assumes that f(a) and f(b) have opposite signs\n",
    "      (i.e., the Intermediate Value Theorem guarantees a root).\n",
    "    - Error can be measured in different ways; here we use the difference\n",
    "      between consecutive midpoints.\n",
    "    \"\"\"\n",
    "    # Check initial condition: f(a) and f(b) must have opposite signs\n",
    "    if f(a) * f(b) >= 0:\n",
    "        raise ValueError(\"f(a) and f(b) must have opposite signs.\")\n",
    "\n",
    "    # Initialization\n",
    "    a_new, b_new = a, b\n",
    "    x = np.mean([a, b])\n",
    "    err = 1 + eps\n",
    "    errors = [err]\n",
    "    it = 0\n",
    "\n",
    "    while err > eps and it < n_max:\n",
    "        # Decide which subinterval contains the root\n",
    "        if f(a_new) * f(x) < 0:\n",
    "            b_new = x\n",
    "        else:\n",
    "            a_new = x\n",
    "\n",
    "        # Compute new midpoint\n",
    "        x_new = np.mean([a_new, b_new])\n",
    "\n",
    "        # Error = change in midpoint\n",
    "        err = abs(x_new - x)\n",
    "        errors.append(err)\n",
    "\n",
    "        # Update values for next iteration\n",
    "        x = x_new\n",
    "        it += 1\n",
    "\n",
    "    return x, it, errors"
   ]
  },
  {
   "cell_type": "code",
   "execution_count": null,
   "metadata": {},
   "outputs": [],
   "source": [
    "%time\n",
    "[alpha, iters_bisect, errors_bisect] = bisect(f, a, b, eps, n_max)"
   ]
  },
  {
   "cell_type": "markdown",
   "metadata": {},
   "source": [
    "Now let's do something cool, let's try to save all the midpoints inside the function and try to animate how the solution changes iteratively."
   ]
  },
  {
   "cell_type": "code",
   "execution_count": null,
   "metadata": {},
   "outputs": [],
   "source": [
    "def bisect(f, a, b, eps, n_max, store_midpoints=False):\n",
    "    \"\"\"\n",
    "    Bisection method for finding a root of a continuous function on [a, b].\n",
    "\n",
    "    Parameters\n",
    "    ----------\n",
    "    Same as before .. \n",
    "    store_midpoints : bool, optional\n",
    "        If True, also return the list of midpoints at each iteration.\n",
    "\n",
    "    Returns\n",
    "    -------\n",
    "    Same as before .. \n",
    "    midpoints : List[float], optional\n",
    "        List of midpoints (if store_midpoints=True).\n",
    "    \"\"\"\n",
    "    if f(a) * f(b) >= 0:\n",
    "        raise ValueError(\"f(a) and f(b) must have opposite signs.\")\n",
    "\n",
    "    a_new, b_new = a, b\n",
    "    x = np.mean([a, b])\n",
    "    err = 1 + eps\n",
    "    errors = [err]\n",
    "    it = 0\n",
    "\n",
    "    midpoints = [x] if store_midpoints else None\n",
    "\n",
    "    while err > eps and it < n_max:\n",
    "        if f(a_new) * f(x) < 0:\n",
    "            b_new = x\n",
    "        else:\n",
    "            a_new = x\n",
    "\n",
    "        x_new = np.mean([a_new, b_new])\n",
    "        err = abs(x_new - x)\n",
    "        errors.append(err)\n",
    "\n",
    "        x = x_new\n",
    "        if store_midpoints:\n",
    "            midpoints.append(x)\n",
    "        it += 1\n",
    "\n",
    "    if store_midpoints:\n",
    "        return x, it, errors, midpoints\n",
    "    else:\n",
    "        return x, it, errors"
   ]
  },
  {
   "cell_type": "code",
   "execution_count": null,
   "metadata": {},
   "outputs": [],
   "source": [
    "%time\n",
    "[alpha, iters_bisect, errors_bisect, mids] = bisect(f, a, b, eps, n_max, store_midpoints=True)"
   ]
  },
  {
   "cell_type": "code",
   "execution_count": null,
   "metadata": {},
   "outputs": [],
   "source": [
    "import matplotlib.animation as animation\n",
    "from IPython.display import HTML\n",
    "\n",
    "# Plot setup\n",
    "fig, ax = plt.subplots()\n",
    "x_vals = np.linspace(a, b, 400)\n",
    "ax.plot(x_vals, f(x_vals), label=\"f(x)\")\n",
    "ax.axhline(0, color=\"black\", linewidth=1)\n",
    "point, = ax.plot([], [], \"ro\", label=\"Midpoint\")\n",
    "plt.grid()\n",
    "plt.legend()\n",
    "\n",
    "def init():\n",
    "    point.set_data([], [])\n",
    "    return (point,)\n",
    "\n",
    "def update(i):\n",
    "    x = mids[i]\n",
    "    point.set_data([x], [f(x)])\n",
    "    return (point,)\n",
    "\n",
    "# Create animation\n",
    "ani = animation.FuncAnimation(\n",
    "    fig, update, frames=len(mids),\n",
    "    init_func=init, blit=True, interval=800, repeat=False\n",
    ")\n",
    "\n",
    "\n",
    "# Display in Jupyter / Colab\n",
    "HTML(ani.to_jshtml())"
   ]
  },
  {
   "cell_type": "code",
   "execution_count": null,
   "metadata": {},
   "outputs": [],
   "source": [
    "print(\"Bisection found root\", alpha, \"in\", iters_bisect, \"iterations.\")\n",
    "print(\"Residual on approximate solution is\", abs(f(alpha)))\n",
    "\n",
    "plt.semilogy(errors_bisect)"
   ]
  },
  {
   "cell_type": "markdown",
   "metadata": {},
   "source": [
    "### Theoretical number of iterations to reach target accuracy\n",
    "At each iteration $k$ of the bisection method we have the zero $\\alpha\\in (a^{(k)},b^{(k)})$; we can therefore explicitly estimate the error at each step:\n",
    "$$ e^{(k)} := \\vert x^{(k)} - \\alpha \\vert \\leq \\frac{b^{(k)} - a^{(k)}}{2} = \\frac{b-a}{2^{k+1}}.$$\n",
    "\n",
    "If an accuracy $\\epsilon$ is desired, we can impose the bound\n",
    "$$ \\frac{b-a}{2^{k+1}} \\leq \\epsilon$$\n",
    "so that we can know _a priori_ the number of iterations $k_\\epsilon$ needed to obtain the desired accuracy:\n",
    "$$ k_\\epsilon \\geq  \\log_2\\left(\\frac{b-a}{\\epsilon}\\right) - 1.$$"
   ]
  },
  {
   "cell_type": "code",
   "execution_count": null,
   "metadata": {
    "id": "4BfXBHPuTKpN"
   },
   "outputs": [],
   "source": [
    "it_theor = (np.log(np.abs(b-a)) - np.log(eps))/np.log(2)\n",
    "print(it_theor)"
   ]
  },
  {
   "cell_type": "markdown",
   "metadata": {
    "id": "BWbkx5oaTKpO"
   },
   "source": [
    "## Newton's method\n",
    "\n",
    "In order to find out other methods for solving non-linear equations, let's compute the Taylor's series of $f(x)$ up to the first order near $x^{(k)}$:\n",
    "$$\n",
    "f(x) \\simeq f(x^{(k)}) + (x-x^{(k)})f^{\\prime}(x^{(k)})\n",
    "$$\n",
    "which suggests the following iterative scheme\n",
    "$$\n",
    "x^{(k+1)} = x^{(k)} - \\frac{f(x^{(k)})}{f^{\\prime}(x^{(k)})}\n",
    "$$\n",
    "known as the Newton method."
   ]
  },
  {
   "cell_type": "code",
   "execution_count": null,
   "metadata": {
    "colab": {
     "base_uri": "https://localhost:8080/",
     "height": 521
    },
    "id": "wL-eP-13TKpP",
    "outputId": "6ad04ec5-a89b-43c1-c097-cfa27b9c37ad"
   },
   "outputs": [],
   "source": [
    "def newton(f, f_prime, x0, eps, n_max):\n",
    "    \"\"\"\n",
    "    Newton's method for finding a root of a real-valued function.\n",
    "\n",
    "    Parameters\n",
    "    ----------\n",
    "    f : Callable[[float], float]\n",
    "        Function whose root we want to approximate.\n",
    "    f_prime : Callable[[float], float]\n",
    "        Derivative of f.\n",
    "    x0 : float\n",
    "        Initial guess for the root.\n",
    "    eps : float, optional (default=1e-8)\n",
    "        Stopping tolerance. The iteration stops when the error is <= eps.\n",
    "    n_max : int, optional (default=100)\n",
    "        Maximum number of iterations.\n",
    "\n",
    "    Returns\n",
    "    -------\n",
    "    root : float\n",
    "        Approximate root of f.\n",
    "    n_iter : int\n",
    "        Number of iterations performed.\n",
    "    errors : List[float]\n",
    "        History of error estimates at each iteration.\n",
    "\n",
    "    Notes\n",
    "    -----\n",
    "    - Newton’s method has **quadratic convergence** if the initial guess is close \n",
    "      enough to the root and f'(x) ≠ 0.\n",
    "    - If f'(x) ≈ 0 at any step, the method may fail or diverge.\n",
    "    \"\"\"\n",
    "\n",
    "    # Check derivative at initial guess\n",
    "    if np.abs(f_prime(x0)) < 1e-16:\n",
    "        raise ValueError(\"Derivative at initial guess is too small.\")\n",
    "\n",
    "    # Initialization\n",
    "    err = float(\"inf\")\n",
    "    errors = [err]\n",
    "    it = 0\n",
    "    x = x0\n",
    "\n",
    "    # Iteration\n",
    "    while err > eps and it < n_max:\n",
    "        qk = f_prime(x)\n",
    "\n",
    "        if abs(qk) < 1e-12:\n",
    "            raise RuntimeError(\"Derivative too close to zero during iteration.\")\n",
    "\n",
    "        # Newton update\n",
    "        x_new = x - f(x) / qk\n",
    "\n",
    "        # Error estimate (difference in successive iterates)\n",
    "        err = abs(x_new - x)\n",
    "        errors.append(err)\n",
    "\n",
    "        # Update for next iteration\n",
    "        x = x_new\n",
    "        it += 1\n",
    "\n",
    "    return x, it, errors"
   ]
  },
  {
   "cell_type": "code",
   "execution_count": null,
   "metadata": {},
   "outputs": [],
   "source": [
    "%time\n",
    "[alpha, iters_newton, errors_newton] = newton(f, f_prime, 1.0, eps, n_max)"
   ]
  },
  {
   "cell_type": "code",
   "execution_count": null,
   "metadata": {
    "id": "qeuOf-HBp96s"
   },
   "outputs": [],
   "source": [
    "print(\"Newton found root\", alpha, \"in\", iters_newton, \"iterations.\")\n",
    "print(\"Residual on approximate solution is\", np.abs(f(alpha)))\n",
    "plt.semilogy(errors_newton)"
   ]
  },
  {
   "cell_type": "markdown",
   "metadata": {
    "id": "bPhiWSK6TKpP"
   },
   "source": [
    "## Chord method\n",
    "\n",
    "$$\n",
    "q^{(k)} \\equiv q = \\frac{f(b)-f(a)}{b-a}\n",
    "$$\n",
    "\n",
    "$$\n",
    "x^{(k+1)} = x^{(k)} - \\frac{f(x^{(k)})}{q}\n",
    "$$"
   ]
  },
  {
   "cell_type": "code",
   "execution_count": null,
   "metadata": {
    "autoscroll": "json-false",
    "colab": {
     "base_uri": "https://localhost:8080/",
     "height": 485
    },
    "ein.tags": [
     "worksheet-0"
    ],
    "id": "CKZEJKbnTKpP",
    "outputId": "40e4d920-5086-4eb8-bb03-8ba00114c0f2"
   },
   "outputs": [],
   "source": [
    "def chord(f, a, b, x0, eps, n_max):\n",
    "    \"\"\"\n",
    "    Implementation of the chord (secant) method to find a root of f(x).\n",
    "    \n",
    "    Parameters:\n",
    "        f      : Function whose root is sought.\n",
    "        a, b   : Interval endpoints used to calculate initial slope.\n",
    "        x0     : Initial guess.\n",
    "        eps    : Desired accuracy (default 1e-6).\n",
    "        n_max  : Maximum number of iterations (default 100).\n",
    "    \n",
    "    Returns:\n",
    "        x      : Approximated root.\n",
    "        it     : Number of iterations performed.\n",
    "        errors : List of errors at each iteration.\n",
    "    \"\"\"\n",
    "    q = (f(b) - f(a)) / (b - a)\n",
    "    errors = [eps + 1.]  # Initialize with a large error\n",
    "    x = x0\n",
    "    it = 0\n",
    "\n",
    "    while errors[-1] > eps and it < n_max:\n",
    "        x_new = x - f(x) / q\n",
    "        err = abs(x_new - x)\n",
    "        errors.append(err)\n",
    "        x = x_new\n",
    "        it += 1\n",
    "\n",
    "    return x, it, errors"
   ]
  },
  {
   "cell_type": "code",
   "execution_count": null,
   "metadata": {},
   "outputs": [],
   "source": [
    "[alpha, iters_chord, errors_chords] = chord(f, a, b, x0, eps, n_max)\n",
    "print(\"Chords found root\", alpha,\"in\", iters_chord, \"iterations.\")\n",
    "print(\"Residual on approximate solution is\", abs(f(alpha)))\n",
    "plt.semilogy(errors_chords)"
   ]
  },
  {
   "cell_type": "markdown",
   "metadata": {
    "id": "U-XbFxDQTKpP"
   },
   "source": [
    "## Secant method\n",
    "\n",
    "$$\n",
    "q^{(k)} = \\frac{f(x^{(k)})-f(x^{(k-1)})}{x^{(k)} - x^{(k-1)}}\n",
    "$$\n",
    "\n",
    "$$\n",
    "x^{(k+1)} = x^{(k)} - \\frac{f(x^{(k)})}{q^{(k)}}\n",
    "$$\n",
    "\n",
    "Note that this algorithm requires **two** initial points"
   ]
  },
  {
   "cell_type": "code",
   "execution_count": null,
   "metadata": {
    "colab": {
     "base_uri": "https://localhost:8080/",
     "height": 485
    },
    "id": "wFKpGFpmTKpQ",
    "outputId": "2c90f714-a355-4b58-849b-57bd7b58fdf6"
   },
   "outputs": [],
   "source": [
    "def secant(f, x0, x00, eps, n_max):\n",
    "    \"\"\"\n",
    "    Implementation of the secant method to find a root of a function f(x).\n",
    "\n",
    "    Parameters:\n",
    "        f      : callable\n",
    "                 The function whose root is to be found.\n",
    "        x0     : float\n",
    "                 The first initial guess for the root.\n",
    "        x00    : float\n",
    "                 The second initial guess for the root.\n",
    "        eps    : float\n",
    "                 Desired accuracy; the iteration stops when the absolute change \n",
    "                 between consecutive approximations is less than eps.\n",
    "        n_max  : int\n",
    "                 Maximum number of iterations allowed.\n",
    "\n",
    "    Returns:\n",
    "        xk     : float\n",
    "                 The approximated root of the function.\n",
    "        it     : int\n",
    "                 The number of iterations performed.\n",
    "        errors : list of float\n",
    "                 List of absolute errors at each iteration \n",
    "                 (|x_new - x_old|).\n",
    "    \"\"\"\n",
    "    err = eps + 1.\n",
    "    errors = [err]\n",
    "    it = 0\n",
    "    xk = x0\n",
    "    xkk = x00\n",
    "\n",
    "    while (err > eps and it < n_max):\n",
    "          qk = (f(xk) - f(xkk))/(xk - xkk)\n",
    "          x_new = xk - f(xk)/qk\n",
    "          err = abs(x_new - xk)\n",
    "          xkk = xk\n",
    "          xk = x_new\n",
    "          errors.append(err)\n",
    "          it += 1\n",
    "    return xk, it, errors\n"
   ]
  },
  {
   "cell_type": "code",
   "execution_count": null,
   "metadata": {},
   "outputs": [],
   "source": [
    "[alpha, iters_secant, errors_secant] = secant(f, x0, x00, eps, n_max)\n",
    "print(\"Secant found root\", alpha, \"in\", iters_secant, \"iterations.\")\n",
    "print(\"Residual on approximate solution is\", abs(f(alpha)))\n",
    "plt.semilogy(errors_secant)"
   ]
  },
  {
   "cell_type": "markdown",
   "metadata": {
    "id": "IY5KPR5mTKpQ"
   },
   "source": [
    "## Fixed point iterations\n",
    "\n",
    "The idea is to transform the problem $f(x) = 0$ into $x-\\phi(x)=0$, where $\\phi(\\alpha)= \\alpha \\iff f(\\alpha)=0$, so that we can use the _fixed point iteration_ \n",
    "$$ x^{(k+1)} = \\phi(x^{(k)}).$$\n",
    "\n",
    "\n",
    "We want to solve $f(t) = \\dfrac{t}{8}\\left(63 t^4 - 70 t^2 + 15\\right) = 0$; we can focus our attention on the roots finding of $f_1 = 63 t^4 - 70 t^2 + 15$.\n",
    "\n",
    "We recast $f_1(t)$ in terms of $t - \\phi(t)$ in many ways:\n",
    "\n",
    "- Dividing by $70t$: \n",
    "$$\\dfrac{63}{70}t^3 - t + \\dfrac{15}{70t} = 0 \\implies \\phi_1 = \\dfrac{63}{70}t^3 + \\dfrac{15}{70t}$$\n",
    "\n",
    "- Dividing by $63t^3$:\n",
    "$$t - \\dfrac{70}{63t} + \\dfrac{15}{63t^3} = 0 \\implies \\phi_2 = \\dfrac{70}{63t} - \\dfrac{15}{63t^3}$$\n",
    "\n",
    "- Multiplying by $\\dfrac{t}{15}$:\n",
    "$$\\dfrac{63}{15}t^5 - \\dfrac{70}{15}t^3 + t  = 0 \\implies \\phi_3 = -\\dfrac{63}{15}t^5 + \\dfrac{70}{15}t^3$$\n",
    "\n",
    "- Finally:\n",
    "$$70t^2 = 63t^4 + 15 \\implies t = \\sqrt{\\dfrac{63t^4 + 15}{70}} \\implies \\phi_4 = \\sqrt{\\dfrac{63t^4 + 15}{70}}$$"
   ]
  },
  {
   "cell_type": "code",
   "execution_count": null,
   "metadata": {},
   "outputs": [],
   "source": [
    "phi1 = lambda x : 63./70.*x**3 + 15./(70.*x)\n",
    "phi1_prime = lambda x : 63./70.*3*x**2 - 15./(70.*x**2)\n",
    "\n",
    "phi2 = lambda x : 70.0/(63.*x) - 15/(63*x**3)\n",
    "phi2_prime = lambda x : -70./(63*x**2) + 15.*3./(63.*x**4)\n",
    "\n",
    "phi3 = lambda x : 70.0/15.0*x**3 - 63.0/15.0*x**5\n",
    "phi3_prime = lambda x : 70./15.0*3*x**2 - 63.0/15.0*5*x**4\n",
    "\n",
    "phi4 = lambda x : np.sqrt((63.*x**4 + 15.0)/70.)\n",
    "phi4_prime = lambda x : 1.0/(2.0*np.sqrt((63.*x**4 + 15.0)/70.))*(63.*4*x**3/70.)\n",
    "\n",
    "phi_funcs = [phi1, phi2, phi3, phi4]\n",
    "phi_primes = [phi1_prime, phi2_prime, phi3_prime, phi4_prime]\n",
    "labels = [r\"$\\phi_1$\", r\"$\\phi_2$\", r\"$\\phi_3$\", r\"$\\phi_4$\"]"
   ]
  },
  {
   "cell_type": "code",
   "execution_count": null,
   "metadata": {
    "colab": {
     "base_uri": "https://localhost:8080/",
     "height": 503
    },
    "id": "sVDqVn3fTKpQ",
    "outputId": "ab63c40d-096c-4aeb-b163-69252871af68"
   },
   "outputs": [],
   "source": [
    "def fixed_point(phi, x0, eps, n_max):\n",
    "    \"\"\"\n",
    "    Implementation of the fixed-point iteration method to find a solution of x = phi(x).\n",
    "\n",
    "    Parameters:\n",
    "        phi    : callable\n",
    "                 Function representing the iteration, x = phi(x).\n",
    "        x0     : float\n",
    "                 Initial guess for the fixed point.\n",
    "        eps    : float\n",
    "                 Desired accuracy; iteration stops when the absolute difference\n",
    "                 between consecutive approximations is less than eps.\n",
    "        n_max  : int\n",
    "                 Maximum number of iterations allowed.\n",
    "\n",
    "    Returns:\n",
    "        x      : float\n",
    "                 Approximated fixed point.\n",
    "        it     : int\n",
    "                 Number of iterations performed.\n",
    "        errors : list of float\n",
    "                 List of absolute differences between consecutive approximations.\n",
    "    \"\"\"\n",
    "    x = x0\n",
    "    err = eps + 1.\n",
    "    errors = [err]\n",
    "    it = 0\n",
    "    while (err > eps and it < n_max):\n",
    "        x_new = phi(x)\n",
    "        err = abs(x_new - x)\n",
    "        x = x_new\n",
    "        it +=1\n",
    "        errors.append(err)\n",
    "\n",
    "    return x, it, errors"
   ]
  },
  {
   "cell_type": "markdown",
   "metadata": {},
   "source": [
    "Remember that for the fixed point method the convergence to $\\alpha$ is guaranteed only if $|\\phi'(\\alpha)|<1$."
   ]
  },
  {
   "cell_type": "code",
   "execution_count": null,
   "metadata": {},
   "outputs": [],
   "source": [
    "# Let's see the convergence for the different phi functions\n",
    "i = 0\n",
    "for phi, phi_prime in zip(phi_funcs, phi_primes):\n",
    "    [alpha, iters_fixed, errors_fixed] = fixed_point(phi, 0.8, eps, n_max)\n",
    "    print(\"Fixed point found root\", alpha, \"in\", iters_fixed, \"iterations.\")\n",
    "    print(\"Residual on approximate solution is\", abs(f(alpha)))\n",
    "    \n",
    "    plt.semilogy(errors_fixed, label=labels[i])\n",
    "\n",
    "    print(\"phi_prime(alpha)=\", phi_prime(alpha))\n",
    "    i += 1\n",
    "plt.legend()"
   ]
  },
  {
   "cell_type": "markdown",
   "metadata": {
    "id": "Aeth4eJNTKpQ"
   },
   "source": [
    "## Comparison"
   ]
  },
  {
   "cell_type": "code",
   "execution_count": null,
   "metadata": {
    "colab": {
     "base_uri": "https://localhost:8080/",
     "height": 430
    },
    "id": "LR4sn9nPTKpQ",
    "outputId": "3991a823-814d-4373-a5ee-6801b0af7b97"
   },
   "outputs": [],
   "source": [
    "# plot the error convergence for the methods\n",
    "plt.semilogy(errors_bisect, label='bisect')\n",
    "plt.semilogy(errors_chords, label='chord')\n",
    "plt.semilogy(errors_secant, label='secant')\n",
    "plt.semilogy(errors_newton, label ='newton')\n",
    "plt.semilogy(errors_fixed, label ='fixed')\n",
    "plt.grid()\n",
    "plt.legend()"
   ]
  },
  {
   "cell_type": "markdown",
   "metadata": {},
   "source": [
    "## On the convergence of the Newton method\n",
    "We know, and have numerically confirmed, that the convergence rate of the Newton method is quadratic, at least in some **_good_** situations. \n",
    "In particular the convergence of Newton method becomes linear when we are seeking zeroes with multiplicity higher than 1.\n",
    "\n",
    "As a simple example let us consider the following polynomial: \n",
    "$$ f(x) = x^2(x^3-1).$$\n",
    "As a real function of real variable, this polynomial has one simple root at $1$ and a double root at $0$. "
   ]
  },
  {
   "cell_type": "code",
   "execution_count": null,
   "metadata": {},
   "outputs": [],
   "source": [
    "t = sym.symbols('t')\n",
    "f_sym = t**2*(t**3-1) \n",
    "f_prime_sym = sym.diff(f_sym,t)\n",
    "f = sym.lambdify(t, f_sym, 'numpy')\n",
    "f_prime = sym.lambdify(t,f_prime_sym, 'numpy')"
   ]
  },
  {
   "cell_type": "code",
   "execution_count": null,
   "metadata": {},
   "outputs": [],
   "source": [
    "plt.plot(x, f(x), label=\"$f(x)$\", color=\"r\")\n",
    "plt.plot(x, f_prime(x), label=\"$f'(x)$\", color=\"b\")\n",
    "plt.axhline(0, color=\"black\", linestyle=\"dotted\")\n",
    "plt.grid()\n",
    "plt.xlim(-1, 1)\n",
    "plt.legend()"
   ]
  },
  {
   "cell_type": "markdown",
   "metadata": {},
   "source": [
    "The Newton method will converge in a lot of iterations!"
   ]
  },
  {
   "cell_type": "code",
   "execution_count": null,
   "metadata": {},
   "outputs": [],
   "source": [
    "[alpha, iters_newton, errors_newton] = newton(f, f_prime, 0.7368, eps, n_max)\n",
    "print(\"Newton found root\", alpha, \"in\", iters_newton, \"iterations.\")\n",
    "print(\"Residual on approximate solution is\", abs(f(alpha)))\n",
    "plt.semilogy(errors_newton)"
   ]
  },
  {
   "cell_type": "markdown",
   "metadata": {},
   "source": [
    "Let's try with the modified Newton, where:\n",
    "$$\n",
    "x^{(k+1)} = x^{(k)} - m\\frac{f(x^{(k)})}{f^{\\prime}(x^{(k)})}\n",
    "$$, where $m$ is the multiplicity of the zero we are seeking.\n",
    "This modification take back the method to quadratic convergence."
   ]
  },
  {
   "cell_type": "code",
   "execution_count": null,
   "metadata": {},
   "outputs": [],
   "source": [
    "def newton_multi(f, f_prime, x0, m, eps, n_max):\n",
    "    \"\"\"\n",
    "    Newton-Raphson method for finding a root of a function with known multiplicity.\n",
    "\n",
    "    This is a modified version of the Newton-Raphson method designed for\n",
    "    roots of multiplicity m, where the standard Newton method converges slowly.\n",
    "\n",
    "    Parameters:\n",
    "        f       : callable\n",
    "                  Function whose root is to be found.\n",
    "        f_prime : callable\n",
    "                  Derivative of the function f.\n",
    "        x0      : float\n",
    "                  Initial guess for the root.\n",
    "        m       : int or float\n",
    "                  Multiplicity of the root.\n",
    "        eps     : float\n",
    "                  Desired accuracy; iteration stops when the absolute difference\n",
    "                  between consecutive approximations is less than eps.\n",
    "        n_max   : int\n",
    "                  Maximum number of iterations allowed.\n",
    "\n",
    "    Returns:\n",
    "        x       : float\n",
    "                  Approximated root of the function.\n",
    "        it      : int\n",
    "                  Number of iterations performed.\n",
    "        errors  : list of float\n",
    "                  List of absolute differences between consecutive approximations.\n",
    "    \"\"\"\n",
    "    err = eps + 1\n",
    "    errors = [err]\n",
    "\n",
    "    x = x0\n",
    "\n",
    "    it = 0 \n",
    "    while(err > eps and it < n_max):\n",
    "    \tq = f_prime(x)\n",
    "    \tif(abs(q)<1e-13):\n",
    "    \t\tbreak\n",
    "\n",
    "    \tx_new = x - m * f(x)/q\n",
    "\n",
    "    \terr = abs(x_new - x)\n",
    "    \terrors.append(err)\n",
    "\n",
    "    \tx = x_new \n",
    "    \tit += 1\n",
    "\n",
    "    return x, it, errors"
   ]
  },
  {
   "cell_type": "code",
   "execution_count": null,
   "metadata": {},
   "outputs": [],
   "source": [
    "[alpha, iters_multinewton, errors_multinewton] = newton_multi(f, f_prime, 0.5, 2, eps, n_max)\n",
    "print(\"Newton-Raphson found root\", alpha, \"in\", iters_multinewton, \"iterations.\")\n",
    "print(\"Residual on approximate solution is\", abs(f(alpha)))\n",
    "plt.semilogy(errors_multinewton)"
   ]
  },
  {
   "cell_type": "markdown",
   "metadata": {},
   "source": [
    "Here there is a comparison between the methods we have tested.\n",
    "| Method                               | Convergence Type           | Required Inputs                             | Notes / Comments                                                       |       |                                         |\n",
    "| ------------------------------------ | -------------------------- | ------------------------------------------- | ---------------------------------------------------------------------- | ----- | --------------------------------------- |\n",
    "| **Bisection (`bisect`)**             | Linear                     | `f`, interval `[a,b]`, `eps`, `n_max`       | Guaranteed convergence if `f(a)*f(b)<0`. Slow but reliable.            |       |                                         |\n",
    "| **Newton (`newton`)**                | Quadratic (simple root)    | `f`, `f_prime`, `x0`, `eps`, `n_max`        | Fast convergence near a simple root. Fails if `f'(x)` is near zero.    |       |                                         |\n",
    "| **Chord (`chord`)**                  | Linear                     | `f`, interval `[a,b]`, `x0`, `eps`, `n_max` | Fixed slope approximation of Newton. Slower but derivative not needed. |       |                                         |\n",
    "| **Secant (`secant`)**                | Superlinear (~1.618)       | `f`, `x0`, `x00`, `eps`, `n_max`            | No derivative required. Uses two previous points.                      |       |                                         |\n",
    "| **Fixed Point (`fixed_point`)**      | Linear (depends on `φ'`)     | `phi`, `x0`, `eps`, `n_max`                 | Converges if                                                            `abs(φ'(α))< 1`. Useful for transforming equations. |\n",
    "| **Modified Newton (`newton_multi`)** | Quadratic (multiple roots) | `f`, `f_prime`, `x0`, `m`, `eps`, `n_max`   | Accelerates convergence for roots with known multiplicity `m`.         |       |                                         |\n"
   ]
  },
  {
   "cell_type": "markdown",
   "metadata": {},
   "source": [
    "## Exercise\n",
    "Consider the function $g(x) = x^3 - 6x^2 + 11x - 6$.\n",
    "\n",
    "**1**) Plot the function $g(x)$ in the interval `[0, 4]` and identify approximate locations of all roots.\n",
    "\n",
    "**2**) Apply all root-finding methods (bisection, Newton, chord, secant, fixed point)\n",
    "\n",
    "**3**) Compare performance:\n",
    "    - Record the number of iterations required by each method.\n",
    "    - Compute the residuals $|g(\\alpha)|$ for the approximate roots.\n",
    "    - Comment on which methods converge fastest or lowest.\n",
    "\n",
    "**4**) Modify the function to include multiple roots: $h(x) = (x-1)^2 (x-2)(x-3)$.\n",
    "    - Apply the Newton method, and modified Newton method to the multiple root.\n",
    "    - Compare convergence rates and iteration counts.\n",
    "\n",
    "**5**) Error convergence:\n",
    "    - Plot the error history for each method on a semilogarithmic scale.\n",
    "    - Discuss how the convergence differs for simple and multiple roots.\n",
    "\n",
    "**6**) BONUS: try to animate how the solution evolves among iterations, for different fixed point functions $\\phi$ (in the same plot)"
   ]
  },
  {
   "cell_type": "code",
   "execution_count": null,
   "metadata": {},
   "outputs": [],
   "source": []
  }
 ],
 "metadata": {
  "anaconda-cloud": {},
  "colab": {
   "provenance": []
  },
  "kernelspec": {
   "display_name": "Python 3 (ipykernel)",
   "language": "python",
   "name": "python3"
  },
  "language_info": {
   "codemirror_mode": {
    "name": "ipython",
    "version": 3
   },
   "file_extension": ".py",
   "mimetype": "text/x-python",
   "name": "python",
   "nbconvert_exporter": "python",
   "pygments_lexer": "ipython3",
   "version": "3.8.10"
  },
  "name": "07_non_linear_equations.ipynb"
 },
 "nbformat": 4,
 "nbformat_minor": 4
}
