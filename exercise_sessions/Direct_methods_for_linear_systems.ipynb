{
 "cells": [
  {
   "cell_type": "markdown",
   "metadata": {},
   "source": [
    "# Direct methods for the numerical solution of linear systems\n",
    "\n",
    "We are dealing with systems of linear equations, written in compact form using matrix-vector multiplications as \n",
    "$$ \n",
    "Ax=b,\\quad \n",
    "\\begin{array}{l}\n",
    "\tA\\in\\mathbb R^{n\\times n}\\\\\n",
    "\tb\\in \\mathbb R^n\\\\\n",
    "\tx = (x_i)\\in\\mathbb R^n\n",
    "\\end{array}$$\n",
    "where $A = (a_{i,j})$ is a given $n\\times n$ matrix, the right-hand side ${b} = (b_i)$ is a given vector and ${x} = (x_j)$ is the unknown vector we want to determine. \n",
    "We know from linear algebra that if $\\det \\mathbf{A} \\neq 0$, the systems admits a unique solution. \n",
    "\n",
    "Problems of this kind are ubiquitous in applied mathematics; it is therefore important to be able to solve them accurately and using as little computational resources as possible. \n",
    "\n",
    "By an algebraic viewpoint, a linear system is quite easy: the theory allows to determine existence and uniqueness of solutions and we know Cramer's rule that allows to compute the solution explicitly:\n",
    "$$ \n",
    "x_k = \\frac{\\det B_k}{\\det A} \\quad k=1,\\ldots,n\\,,\n",
    "$$\n",
    "where $B_k$ is the matrix obtained by replacing the $k$-th column of $A$ with the known vector $b$. For example, if $k=2$:\n",
    "$$\n",
    "B_2 = \\begin{bmatrix}a_{11} & \\textcolor{red}{b_1}& \\dots& a_{1n}\\\\\n",
    "a_{21} & \\textcolor{red}{b_2} &\\dots& a_{2n}\\\\\n",
    "\\dots & \\textcolor{red}{\\dots}& \\dots& \\dots\\\\\n",
    "a_{n1} & \\textcolor{red}{b_n} &\\dots& a_{nn}\n",
    "\\end{bmatrix}\n",
    "$$\n",
    "The problem comes when the size of the system $n$ becomes larger than $20$, as the computational cost of Cramer's algorithm scales like $(n+1)!$. This is totally unaffordable, let's see why."
   ]
  },
  {
   "cell_type": "code",
   "execution_count": 6,
   "metadata": {},
   "outputs": [
    {
     "name": "stdout",
     "output_type": "stream",
     "text": [
      "Collecting matplotlib\n",
      "  Downloading matplotlib-3.10.7-cp313-cp313-win_amd64.whl.metadata (11 kB)\n",
      "Collecting contourpy>=1.0.1 (from matplotlib)\n",
      "  Downloading contourpy-1.3.3-cp313-cp313-win_amd64.whl.metadata (5.5 kB)\n",
      "Collecting cycler>=0.10 (from matplotlib)\n",
      "  Downloading cycler-0.12.1-py3-none-any.whl.metadata (3.8 kB)\n",
      "Collecting fonttools>=4.22.0 (from matplotlib)\n",
      "  Downloading fonttools-4.60.1-cp313-cp313-win_amd64.whl.metadata (114 kB)\n",
      "Collecting kiwisolver>=1.3.1 (from matplotlib)\n",
      "  Downloading kiwisolver-1.4.9-cp313-cp313-win_amd64.whl.metadata (6.4 kB)\n",
      "Requirement already satisfied: numpy>=1.23 in c:\\users\\cociancich\\source\\repos\\numerical analysis\\numerical_analysis_2025-2026\\.venv\\lib\\site-packages (from matplotlib) (2.3.4)\n",
      "Requirement already satisfied: packaging>=20.0 in c:\\users\\cociancich\\source\\repos\\numerical analysis\\numerical_analysis_2025-2026\\.venv\\lib\\site-packages (from matplotlib) (25.0)\n",
      "Collecting pillow>=8 (from matplotlib)\n",
      "  Downloading pillow-12.0.0-cp313-cp313-win_amd64.whl.metadata (9.0 kB)\n",
      "Collecting pyparsing>=3 (from matplotlib)\n",
      "  Downloading pyparsing-3.2.5-py3-none-any.whl.metadata (5.0 kB)\n",
      "Requirement already satisfied: python-dateutil>=2.7 in c:\\users\\cociancich\\source\\repos\\numerical analysis\\numerical_analysis_2025-2026\\.venv\\lib\\site-packages (from matplotlib) (2.9.0.post0)\n",
      "Requirement already satisfied: six>=1.5 in c:\\users\\cociancich\\source\\repos\\numerical analysis\\numerical_analysis_2025-2026\\.venv\\lib\\site-packages (from python-dateutil>=2.7->matplotlib) (1.17.0)\n",
      "Downloading matplotlib-3.10.7-cp313-cp313-win_amd64.whl (8.1 MB)\n",
      "   ---------------------------------------- 0.0/8.1 MB ? eta -:--:--\n",
      "   -------------------------------------- - 7.9/8.1 MB 44.5 MB/s eta 0:00:01\n",
      "   ---------------------------------------- 8.1/8.1 MB 41.8 MB/s  0:00:00\n",
      "Downloading contourpy-1.3.3-cp313-cp313-win_amd64.whl (226 kB)\n",
      "Downloading cycler-0.12.1-py3-none-any.whl (8.3 kB)\n",
      "Downloading fonttools-4.60.1-cp313-cp313-win_amd64.whl (2.3 MB)\n",
      "   ---------------------------------------- 0.0/2.3 MB ? eta -:--:--\n",
      "   ---------------------------------------- 2.3/2.3 MB 79.0 MB/s  0:00:00\n",
      "Downloading kiwisolver-1.4.9-cp313-cp313-win_amd64.whl (73 kB)\n",
      "Downloading pillow-12.0.0-cp313-cp313-win_amd64.whl (7.0 MB)\n",
      "   ---------------------------------------- 0.0/7.0 MB ? eta -:--:--\n",
      "   ---------------------------------------- 7.0/7.0 MB 91.1 MB/s  0:00:00\n",
      "Downloading pyparsing-3.2.5-py3-none-any.whl (113 kB)\n",
      "Installing collected packages: pyparsing, pillow, kiwisolver, fonttools, cycler, contourpy, matplotlib\n",
      "\n",
      "   ---------------------------------------- 0/7 [pyparsing]\n",
      "   ----- ---------------------------------- 1/7 [pillow]\n",
      "   ----- ---------------------------------- 1/7 [pillow]\n",
      "   ----- ---------------------------------- 1/7 [pillow]\n",
      "   ----- ---------------------------------- 1/7 [pillow]\n",
      "   ----- ---------------------------------- 1/7 [pillow]\n",
      "   ----- ---------------------------------- 1/7 [pillow]\n",
      "   ----- ---------------------------------- 1/7 [pillow]\n",
      "   ----- ---------------------------------- 1/7 [pillow]\n",
      "   ----- ---------------------------------- 1/7 [pillow]\n",
      "   ----- ---------------------------------- 1/7 [pillow]\n",
      "   ----- ---------------------------------- 1/7 [pillow]\n",
      "   ----- ---------------------------------- 1/7 [pillow]\n",
      "   ----------- ---------------------------- 2/7 [kiwisolver]\n",
      "   ----------------- ---------------------- 3/7 [fonttools]\n",
      "   ----------------- ---------------------- 3/7 [fonttools]\n",
      "   ----------------- ---------------------- 3/7 [fonttools]\n",
      "   ----------------- ---------------------- 3/7 [fonttools]\n",
      "   ----------------- ---------------------- 3/7 [fonttools]\n",
      "   ----------------- ---------------------- 3/7 [fonttools]\n",
      "   ----------------- ---------------------- 3/7 [fonttools]\n",
      "   ----------------- ---------------------- 3/7 [fonttools]\n",
      "   ----------------- ---------------------- 3/7 [fonttools]\n",
      "   ----------------- ---------------------- 3/7 [fonttools]\n",
      "   ----------------- ---------------------- 3/7 [fonttools]\n",
      "   ----------------- ---------------------- 3/7 [fonttools]\n",
      "   ----------------- ---------------------- 3/7 [fonttools]\n",
      "   ----------------- ---------------------- 3/7 [fonttools]\n",
      "   ----------------- ---------------------- 3/7 [fonttools]\n",
      "   ----------------- ---------------------- 3/7 [fonttools]\n",
      "   ----------------- ---------------------- 3/7 [fonttools]\n",
      "   ----------------- ---------------------- 3/7 [fonttools]\n",
      "   ----------------- ---------------------- 3/7 [fonttools]\n",
      "   ----------------- ---------------------- 3/7 [fonttools]\n",
      "   ----------------- ---------------------- 3/7 [fonttools]\n",
      "   ----------------- ---------------------- 3/7 [fonttools]\n",
      "   ----------------- ---------------------- 3/7 [fonttools]\n",
      "   ----------------- ---------------------- 3/7 [fonttools]\n",
      "   ----------------- ---------------------- 3/7 [fonttools]\n",
      "   ----------------- ---------------------- 3/7 [fonttools]\n",
      "   ----------------- ---------------------- 3/7 [fonttools]\n",
      "   ----------------- ---------------------- 3/7 [fonttools]\n",
      "   ----------------- ---------------------- 3/7 [fonttools]\n",
      "   ----------------- ---------------------- 3/7 [fonttools]\n",
      "   ----------------- ---------------------- 3/7 [fonttools]\n",
      "   ----------------- ---------------------- 3/7 [fonttools]\n",
      "   ----------------- ---------------------- 3/7 [fonttools]\n",
      "   ----------------- ---------------------- 3/7 [fonttools]\n",
      "   ----------------- ---------------------- 3/7 [fonttools]\n",
      "   ----------------- ---------------------- 3/7 [fonttools]\n",
      "   ----------------- ---------------------- 3/7 [fonttools]\n",
      "   ----------------- ---------------------- 3/7 [fonttools]\n",
      "   ----------------- ---------------------- 3/7 [fonttools]\n",
      "   ---------------------------- ----------- 5/7 [contourpy]\n",
      "   ---------------------------- ----------- 5/7 [contourpy]\n",
      "   ---------------------------------- ----- 6/7 [matplotlib]\n",
      "   ---------------------------------- ----- 6/7 [matplotlib]\n",
      "   ---------------------------------- ----- 6/7 [matplotlib]\n",
      "   ---------------------------------- ----- 6/7 [matplotlib]\n",
      "   ---------------------------------- ----- 6/7 [matplotlib]\n",
      "   ---------------------------------- ----- 6/7 [matplotlib]\n",
      "   ---------------------------------- ----- 6/7 [matplotlib]\n",
      "   ---------------------------------- ----- 6/7 [matplotlib]\n",
      "   ---------------------------------- ----- 6/7 [matplotlib]\n",
      "   ---------------------------------- ----- 6/7 [matplotlib]\n",
      "   ---------------------------------- ----- 6/7 [matplotlib]\n",
      "   ---------------------------------- ----- 6/7 [matplotlib]\n",
      "   ---------------------------------- ----- 6/7 [matplotlib]\n",
      "   ---------------------------------- ----- 6/7 [matplotlib]\n",
      "   ---------------------------------- ----- 6/7 [matplotlib]\n",
      "   ---------------------------------- ----- 6/7 [matplotlib]\n",
      "   ---------------------------------- ----- 6/7 [matplotlib]\n",
      "   ---------------------------------- ----- 6/7 [matplotlib]\n",
      "   ---------------------------------- ----- 6/7 [matplotlib]\n",
      "   ---------------------------------- ----- 6/7 [matplotlib]\n",
      "   ---------------------------------- ----- 6/7 [matplotlib]\n",
      "   ---------------------------------- ----- 6/7 [matplotlib]\n",
      "   ---------------------------------- ----- 6/7 [matplotlib]\n",
      "   ---------------------------------- ----- 6/7 [matplotlib]\n",
      "   ---------------------------------- ----- 6/7 [matplotlib]\n",
      "   ---------------------------------- ----- 6/7 [matplotlib]\n",
      "   ---------------------------------- ----- 6/7 [matplotlib]\n",
      "   ---------------------------------- ----- 6/7 [matplotlib]\n",
      "   ---------------------------------- ----- 6/7 [matplotlib]\n",
      "   ---------------------------------- ----- 6/7 [matplotlib]\n",
      "   ---------------------------------- ----- 6/7 [matplotlib]\n",
      "   ---------------------------------- ----- 6/7 [matplotlib]\n",
      "   ---------------------------------- ----- 6/7 [matplotlib]\n",
      "   ---------------------------------- ----- 6/7 [matplotlib]\n",
      "   ---------------------------------- ----- 6/7 [matplotlib]\n",
      "   ---------------------------------- ----- 6/7 [matplotlib]\n",
      "   ---------------------------------- ----- 6/7 [matplotlib]\n",
      "   ---------------------------------- ----- 6/7 [matplotlib]\n",
      "   ---------------------------------------- 7/7 [matplotlib]\n",
      "\n",
      "Successfully installed contourpy-1.3.3 cycler-0.12.1 fonttools-4.60.1 kiwisolver-1.4.9 matplotlib-3.10.7 pillow-12.0.0 pyparsing-3.2.5\n"
     ]
    },
    {
     "name": "stderr",
     "output_type": "stream",
     "text": [
      "\n",
      "[notice] A new release of pip is available: 25.2 -> 25.3\n",
      "[notice] To update, run: python.exe -m pip install --upgrade pip\n"
     ]
    }
   ],
   "source": [
    "!pip install matplotlib"
   ]
  },
  {
   "cell_type": "code",
   "execution_count": 4,
   "metadata": {},
   "outputs": [
    {
     "data": {
      "text/plain": [
       "93326215443944152681699238856266700490715968264381621468592963895217599993229915608941463976156518286253697920827223758251185210916864000000000000000000000000"
      ]
     },
     "execution_count": 4,
     "metadata": {},
     "output_type": "execute_result"
    }
   ],
   "source": [
    "import numpy as np\n",
    "import math\n",
    "math.factorial(100)"
   ]
  },
  {
   "cell_type": "code",
   "execution_count": 10,
   "metadata": {},
   "outputs": [
    {
     "data": {
      "image/png": "[encoded data removed]",
      "text/plain": [
       "<Figure size 640x480 with 1 Axes>"
      ]
     },
     "metadata": {},
     "output_type": "display_data"
    }
   ],
   "source": [
    "# let's plot the factorial function\n",
    "import matplotlib.pyplot as plt\n",
    "n = np.linspace(1, 100, 100)\n",
    "n_fact = np.array([math.factorial(int(i)) for i in n])\n",
    "#plt.plot(n, n_fact)\n",
    "plt.semilogy(n, n_fact, label='Factorial')\n",
    "plt.semilogy(n, n**2, label='Quadratic')\n",
    "plt.show()"
   ]
  },
  {
   "cell_type": "markdown",
   "metadata": {},
   "source": [
    "What if we simplify the system into a *triangular* system? In that case the cost would be $n^2$! Let's recall the meaning of lower triangular and upper triangular matrices:\n",
    "- $L$ lower triangular iff $l_{ij}=0$ for $i<j$;\n",
    "- $U$ upper triangular iff $u_{ij}=0$ for $i>j$.\n",
    "\n",
    "Solving a lower triangular system $Lx=b$ implies a *forward* substitution, while solving an upper triangular system $Ux=b$ implies a *backward* substitution formula."
   ]
  },
  {
   "cell_type": "markdown",
   "metadata": {},
   "source": [
    "## Gaussian elimination method\n",
    "\n",
    "If we were able to factorize the matrix $A$ into a product \n",
    "$$ A = LU $$ \n",
    "with $L$ lower triangular and $U$ upper triangular, we could solve \n",
    "$$ \n",
    "LU x = b \\implies\n",
    "\\left\\{\n",
    "\\begin{array}{l}\n",
    "\tLy = b \\to \\text{Forward substitution, $\\mathcal{O}(n^2)$ flops} \\\\\n",
    "\tUx = y \\to \\text{Backward substitution, $\\mathcal{O}(n^2)$ flops}\n",
    "\\end{array}\n",
    "\\right.\n",
    "$$"
   ]
  },
  {
   "cell_type": "markdown",
   "metadata": {},
   "source": [
    "### Forward and backward substitution\n",
    "\n",
    "#### Forward\n",
    "\n",
    "$$\n",
    "Ly = b \\to \n",
    "\\left\\{\n",
    "\\begin{array}{l}\n",
    "\tl_{11}y_1 = b_1\\\\\n",
    "\tl_{21}y_1 + l_{22}y_2 = b_2\\\\\n",
    "\t\\vdots \\\\\n",
    "\tl_{n1}y_1+l_{n2}y_2 + \\cdots + l_{nn}y_n = b_n\n",
    "\\end{array}\n",
    "\\right.\n",
    "$$\n"
   ]
  },
  {
   "cell_type": "markdown",
   "metadata": {},
   "source": [
    "$$\n",
    "\\begin{array}{l}\n",
    "y_{1} = \\frac{b_1}{l_{11}} \\\\\n",
    "y_{i} = \\frac{1}{l_{ii}}(b_i - \\sum_{j=1}^{i-1} l_{ij} y_j)\n",
    "\\end{array}\n",
    "$$"
   ]
  },
  {
   "cell_type": "code",
   "execution_count": 14,
   "metadata": {},
   "outputs": [],
   "source": [
    "# forward substitution\n",
    "def L_solve(L, rhs):\n",
    "    x = np.zeros_like(rhs)\n",
    "    N = len(L)\n",
    "\n",
    "    x[0] = rhs[0]/L[0, 0]\n",
    "    for i in range(1, N):\n",
    "        x[i] = (1/L[i, i]) * (rhs[i] - np.dot(L[i, 0:i], x[0:i]))\n",
    "\n",
    "    return x"
   ]
  },
  {
   "cell_type": "markdown",
   "metadata": {},
   "source": [
    "\n",
    "#### Backward\n",
    "\n",
    "\n",
    "$$\n",
    "Ux = y \\to \n",
    "\\left\\{\n",
    "\\begin{array}{l}\n",
    "u_{11}x_1+\\cdots + u_{n-1,n-1}x_{n-1} + u_{nn}x_n = y_n \\\\\n",
    "\\vdots \\\\\n",
    "u_{n-1,n-1}x_{n-1} + u_{nn}x_n = y_{n-1}\\\\\n",
    "u_{nn}x_n = y_n\\\\\n",
    "\\end{array}\n",
    "\\right.\n",
    "$$\n",
    "\n",
    "\n",
    "$$\n",
    "\\begin{array}{l}\n",
    "x_n = \\frac{y_n}{u_{nn}} \\\\\n",
    "x_i = \\frac{1}{u_{ii}} \\left( y_i - \\sum_{j=i+1}^{n} u_{ij}x_j \\right)\n",
    "\\end{array}\n",
    "$$"
   ]
  },
  {
   "cell_type": "code",
   "execution_count": 15,
   "metadata": {
    "id": "sZz4H1-RvsY4",
    "tags": [
     "hide-code"
    ]
   },
   "outputs": [],
   "source": [
    "# backward substitution\n",
    "def U_solve(U, rhs):\n",
    "    x = np.zeros_like(rhs)\n",
    "    N = len(U)\n",
    "\n",
    "    x[-1] = rhs[-1]/U[-1, -1]\n",
    "    for i in reversed(range(N-1)):\n",
    "        x[i] = (1/U[i, i]) * (rhs[i] - np.dot(U[i, i+1:N], x[i+1:N]))\n",
    "\n",
    "    return x"
   ]
  },
  {
   "cell_type": "markdown",
   "metadata": {},
   "source": [
    "### Gaussian elimination algorithm\n",
    "\n",
    "We use this method to transform the system $Ax=b$ into an upper triangular system $A'x={b}'$ with properly modified ${b}'$.\n",
    "\n",
    "Given the matrix \n",
    "$$\n",
    "A=\n",
    "\\begin{bmatrix}\n",
    "a_{11} & a_{12} & \\cdots & a_{1n} \\\\ \n",
    "a_{21} & a_{22} &  \t\t & a_{2n} \\\\ \n",
    "\\vdots &  \t\t& \\ddots & \\vdots \\\\ \n",
    "a_{n1} & a_{n2} & \\cdots & a_{nn}\n",
    "\\end{bmatrix}\n",
    "$$\n",
    "We start by eliminating all entries below $a_{11}$; this can be done by carefully subtracting entries of $A$ as follows: assuming $a_{11}\\neq 0$, define \n",
    "$$l_{i1} = \\frac{a_{i1}}{a_{11}}$$\n",
    "and update the matrix\n",
    "$$\n",
    "a_{ij} \\leftarrow a_{ij} - l_{i1} a_{1j},\\quad{i,j=2,\\ldots,n}.\n",
    "$$\n",
    "\n",
    "After this step we are left with a new matrix \n",
    "$$\n",
    "A'=\n",
    "\\begin{bmatrix}\n",
    "a_{11} & a_{12} & \\cdots & a_{1n} \\\\ \n",
    "0 & a_{22}' &  \t\t & a_{2n}' \\\\ \n",
    "\\vdots &  \t\t& \\ddots & \\vdots \\\\ \n",
    "0 & a_{n2}' & \\cdots & a_{nn}'\n",
    "\\end{bmatrix}\n",
    "$$\n",
    "Repeating the procedure $n-1$ times we get the desired factorization, because after the $n$-th transformation, $A'$ is upper triangular and the sequence of multipliers $l_{ik},\\ i=k+1,\\ldots,n$ defines a lower triangular matrix. So, in the end the Gaussian elimination method basically coincides with a LU factorization.\n",
    "\n",
    "**Important** \n",
    "Of course, if we want to solve a linear system, all operations performed on $A$ need to be performed also on the right-hand side. \n",
    "\n",
    "So the general formulas are \n",
    "$$\n",
    "\\begin{array}{l}\n",
    "\tl_{ik} = \\frac{a^{(k)}_{ik}}{a^{(k)}_{kk}},\\quad i=k+1,\\ldots,n \\\\\n",
    "\ta^{(k+1)}_{ij} = a^{(k)}_{ij} - l_{ik} a^{(k)}_{kj},\\quad i,j= k+1,\\ldots, n \\\\\n",
    "\tb_i^{(k+1)} = b_i^{(k)} - l_{ik} a^{(k)}_{kj},\\quad i= k+1,\\ldots, n.\n",
    "\\end{array}\n",
    "$$"
   ]
  },
  {
   "cell_type": "code",
   "execution_count": 16,
   "metadata": {
    "id": "p_7e8E2zuS9X"
   },
   "outputs": [],
   "source": [
    "def LU(A):\n",
    "    '''\n",
    "    Implementation of Gaussian elimination method.\n",
    "    '''\n",
    "    A = A.copy()\n",
    "    N = len(A)\n",
    "    \n",
    "    for k in range(N-1):\n",
    "        if (abs(A[k, k]) < 1e-15):\n",
    "            raise RuntimeError(\"Null pivot\")\n",
    "\n",
    "        # complete here\n",
    "        A[k+1:N, k]/= A[k, k]\n",
    "        for j in range(k+1, N):\n",
    "            A[k+1:N, j] -= A[k+1:N, k] * A[k, j] \n",
    "\n",
    "    L = np.tril(A)\n",
    "    for i in range(N):\n",
    "        L[i, i] = 1.0 # why is this necessary?\n",
    "\n",
    "    U = np.triu(A)\n",
    "    \n",
    "    return L, U"
   ]
  },
  {
   "cell_type": "markdown",
   "metadata": {},
   "source": [
    "## Application: Finite Differences solution of a boundary value problem\n",
    "Let us consider the following boundary value problem \n",
    "$$\n",
    "\\left\\{\n",
    "\\begin{array}{l}\n",
    "\t-u''(x) = f(x) \\quad\\text{in $(0,1)$} \\\\\n",
    "\tu(0) = u(1) = 0,\n",
    "\\end{array}\n",
    "\\right.\n",
    "$$\n",
    "which models an elastic string, which occupies at rest the space $[0,1]$ and is fixed at the two extremes. The unknown $u(x)$ represents the displacement of the string at the point $x$, and the right-hand side models a prescribed force $f(x)$ on the string.\n"
   ]
  },
  {
   "cell_type": "markdown",
   "metadata": {},
   "source": [
    "For the numerical discretization of the problem, we consider a **Finite Difference (FD) Approximation**. Let $n$ be an integer, a consider a uniform subdivision of the interval $(0,1)$ using $n$ equispaced points, denoted by $\\{x_i\\}_{i=0}^n$ . Moreover, let $u_i$ be the FD approximation of $u(x_i)$, and similarly $f_i \\approx f(x_i)$.\n",
    "\n",
    "In order to formulate the discrete problem, we consider a FD approximation of the left-hand side, as follows:\n",
    "$$\n",
    "-u_{xx}(x_i) \\approx \\frac{-u_{i-1} + 2u_i - u_{i+1}}{h^2}\n",
    "$$\n",
    "being $h = \\frac{1}{n-1}$ the size of each subinterval $(x_i, x_{i+1})$.\n",
    "\n",
    "The problem that we need to solve is\n",
    "$$\n",
    "u_i = 0 \\qquad\\qquad\\qquad\\qquad i=0,\n",
    "$$\n",
    "$$\n",
    "\\frac{-u_{i-1} + 2u_i - u_{i+1}}{h^2} = f_i \\qquad\\qquad\\qquad i=1, \\ldots, n-1,\\qquad\\qquad\\qquad(P)\n",
    "$$\n",
    "$$\n",
    "u_i = 0 \\qquad\\qquad\\qquad\\qquad i=n.\n",
    "$$\n",
    "\n",
    "Then, let us collect al the unknowns $\\{u_i\\}_{i=0}^n$ in a vector $\\mathbf{u}$. Then, (P) is a linear system\n",
    "$$\n",
    "A \\mathbf{u} = \\mathbf{f}.\n",
    "$$"
   ]
  },
  {
   "cell_type": "code",
   "execution_count": 21,
   "metadata": {
    "id": "EKMVMqJanYMo"
   },
   "outputs": [
    {
     "data": {
      "image/png": "[encoded data removed]",
      "text/plain": [
       "<Figure size 640x480 with 2 Axes>"
      ]
     },
     "metadata": {},
     "output_type": "display_data"
    }
   ],
   "source": [
    "n = 30\n",
    "h = 1/(n-1)\n",
    "\n",
    "x = np.linspace(0, 1, n)\n",
    "\n",
    "# define matrix A\n",
    "a = - np.ones((n-1))\n",
    "b = 2 * np.ones((n))\n",
    "A = (1/h**2)*(np.diag(a, -1) + np.diag(b) + np.diag(a, 1))\n",
    "plt.imshow(A, cmap='gray')\n",
    "plt.colorbar()\n",
    "# modify A to impose boundary conditions\n",
    "A[0, :] = 0\n",
    "A[:, 0] = 0\n",
    "A[0, 0] = 1\n",
    "\n",
    "A[-1, :] = 0\n",
    "A[:, -1] = 0\n",
    "A[-1, -1] = 1\n"
   ]
  },
  {
   "cell_type": "code",
   "execution_count": 22,
   "metadata": {},
   "outputs": [
    {
     "data": {
      "text/plain": [
       "<matplotlib.colorbar.Colorbar at 0x22799aa6710>"
      ]
     },
     "execution_count": 22,
     "metadata": {},
     "output_type": "execute_result"
    },
    {
     "data": {
      "image/png": "[encoded data removed]",
      "text/plain": [
       "<Figure size 640x480 with 2 Axes>"
      ]
     },
     "metadata": {},
     "output_type": "display_data"
    }
   ],
   "source": [
    "plt.imshow(A, cmap='gray')\n",
    "plt.colorbar()"
   ]
  },
  {
   "cell_type": "markdown",
   "metadata": {},
   "source": [
    "### Forcing term and exact solution\n",
    "\n",
    "If we set $f(x) = x(1-x)$, the exact solution of the problem is $u(x) = \\frac{x^4}{12} - \\frac{x^3}{6} + \\frac{x}{12}$."
   ]
  },
  {
   "cell_type": "code",
   "execution_count": 25,
   "metadata": {},
   "outputs": [
    {
     "data": {
      "image/png": "[encoded data removed]",
      "text/plain": [
       "<Figure size 640x480 with 1 Axes>"
      ]
     },
     "metadata": {},
     "output_type": "display_data"
    }
   ],
   "source": [
    "# forcing term\n",
    "f = x * (1.-x)\n",
    "\n",
    "# Exact solution \n",
    "u_ex = (x**4)/12. - (x**3)/6. + x/12.\n",
    "\n",
    "plt.plot(x, u_ex, label='Exact solution')\n",
    "plt.plot(x, f, label='Forcing term')\n",
    "plt.legend()\n",
    "plt.grid()"
   ]
  },
  {
   "cell_type": "code",
   "execution_count": 26,
   "metadata": {
    "colab": {
     "base_uri": "https://localhost:8080/",
     "height": 308
    },
    "id": "WgziLp9zq4nN",
    "outputId": "992d5fc7-a5a7-44fb-e2ed-ceaf12b309fd"
   },
   "outputs": [
    {
     "data": {
      "text/plain": [
       "<matplotlib.legend.Legend at 0x22799b2c550>"
      ]
     },
     "execution_count": 26,
     "metadata": {},
     "output_type": "execute_result"
    },
    {
     "data": {
      "image/png": "[encoded data removed]",
      "text/plain": [
       "<Figure size 640x480 with 1 Axes>"
      ]
     },
     "metadata": {},
     "output_type": "display_data"
    }
   ],
   "source": [
    "# solve the system using numpy\n",
    "u = np.linalg.solve(A, f)\n",
    "\n",
    "# LU factorization to solve the system\n",
    "L, U = LU(A)\n",
    "# LUx=f -> Lw=f -> Ux=w\n",
    "w = L_solve(L, f)\n",
    "u_lu = U_solve(U, w)\n",
    "\n",
    "# plot the exact solution, the numpy solution and the LU solution\n",
    "plt.plot(x, u_lu, 'bs', label='computed-LU')\n",
    "plt.plot(x, u, 'ro', label = 'np')\n",
    "plt.plot(x, u_ex, label = 'Exact')\n",
    "plt.legend()"
   ]
  },
  {
   "cell_type": "code",
   "execution_count": 29,
   "metadata": {},
   "outputs": [
    {
     "data": {
      "text/plain": [
       "<matplotlib.legend.Legend at 0x22799e78550>"
      ]
     },
     "execution_count": 29,
     "metadata": {},
     "output_type": "execute_result"
    },
    {
     "data": {
      "image/png": "[encoded data removed]",
      "text/plain": [
       "<Figure size 640x480 with 1 Axes>"
      ]
     },
     "metadata": {},
     "output_type": "display_data"
    }
   ],
   "source": [
    "# try to compute the solution u for different forcing term and compare with the\n",
    "# exact solution without recomputing the LU decomposition\n",
    "\n",
    "f2 = np.sin(2*np.pi*x)\n",
    "\n",
    "## YOUR CODE TO COMPUTE u_lu_new (hint: two lines are enough)\n",
    "w_new = L_solve(L, f2)\n",
    "u_lu_new = U_solve(U, w_new)\n",
    "u_new = np.linalg.solve(A, f2)\n",
    "\n",
    "plt.plot(x, u_lu_new, 'ro', label='computed-LU')\n",
    "plt.plot(x, u_new, label='np')\n",
    "#plt.plot(x, u_new, label='Exact')\n",
    "plt.legend()"
   ]
  },
  {
   "cell_type": "markdown",
   "metadata": {},
   "source": [
    "## Cholesky decomposition"
   ]
  },
  {
   "cell_type": "markdown",
   "metadata": {},
   "source": [
    "In the case where the $n\\times n$ matrix $A$ is symmetric and positive definite, there exists a unique upper triangular matrix\n",
    "$R$ with positive diagonal elements such that\n",
    "$$\n",
    "A = R^T R,\n",
    "$$\n",
    "which is called _Cholesky decomposition_.\n",
    "\n",
    "The entries of the matrix $R$ are computed as:\n",
    "$$\n",
    "\\begin{array}{l}\n",
    "\tr_{11} = \\sqrt{a_{11}} \\\\\n",
    "\tr_{ji} = \\frac{1}{r_{jj}} \\left( a_{ij} - \\sum_{k=1}^{j-1} r_{ki}r_{kj} \\right), j=1,\\ldots, i-1 \\\\\n",
    "\tr_{ii} = \\sqrt{a_{ii} - \\sum_{k=1}^{i-1}r_{ki}^2}\n",
    "\\end{array}\n",
    "$$"
   ]
  },
  {
   "cell_type": "code",
   "execution_count": 30,
   "metadata": {
    "colab": {
     "base_uri": "https://localhost:8080/",
     "height": 308
    },
    "id": "OOq4EbgXxX2i",
    "outputId": "409881bb-0b25-48a1-df3f-c5ed25ef93a7"
   },
   "outputs": [],
   "source": [
    "def cholesky(A):\n",
    "    '''\n",
    "    Define the Cholesky factorization.\n",
    "    '''\n",
    "    A = A.copy()\n",
    "    N = len(A)\n",
    "    ## what are we doing here?\n",
    "    for k in range(N-1):\n",
    "        A[k, k] = np.sqrt(A[k, k])\n",
    "        A[k+1:N, k] = A[k+1:N, k]/A[k, k]\n",
    "\n",
    "        for j in range(k+1, N):\n",
    "            A[j:N, j] = A[j:N, j] - A[j:N, k] * A[j, k]\n",
    "\n",
    "    A[-1, -1] = np.sqrt(A[-1, -1])\n",
    "    L = np.tril(A) # we are computing a lower triangular matrix and not the upper triangular one, why?\n",
    "    return L, L.transpose()"
   ]
  },
  {
   "cell_type": "code",
   "execution_count": null,
   "metadata": {},
   "outputs": [
    {
     "data": {
      "text/plain": [
       "<matplotlib.legend.Legend at 0x22799edf250>"
      ]
     },
     "execution_count": 31,
     "metadata": {},
     "output_type": "execute_result"
    },
    {
     "data": {
      "image/png": "[encoded data removed]",
      "text/plain": [
       "<Figure size 640x480 with 1 Axes>"
      ]
     },
     "metadata": {},
     "output_type": "display_data"
    }
   ],
   "source": [
    "HT, H = cholesky(A)\n",
    "# H.T H u = f -> H.T y = f -> Hu = y\n",
    "y = L_solve(HT, f)\n",
    "u = U_solve(H, y)\n",
    "\n",
    "plt.plot(x, u, 'ro', label='Cholesky')\n",
    "plt.plot(x, u_ex, label='Exact')\n",
    "plt.legend()"
   ]
  },
  {
   "cell_type": "markdown",
   "metadata": {},
   "source": [
    "## Gaussian algorithm with pivoting\n",
    "\n",
    "All the implementations we have see so far assume that at each step $a^{(k)}_{kk} \\neq 0$. \n",
    "But this is not always guaranteed, or easy to check before starting the elimination procedure. Only a handful of classes of matrices are known to have a $LU$ factorization for sure... \n",
    "\n",
    "To remedy, we can use the pivoting technique, which consists in exchanging rows (or columns) of the system so that no pivot is zero. \n",
    "This still does not guarantee that the algorithm finishes successfully, but it definitely enlarges the classes of matrices that can be factorized.\n",
    "\n",
    "Moreover, we can rearrange the row (or columns) of the matrices, so that the pivot is always the biggest available number, so that the computation of the elimination matrices and the backward substitution, which involve a division by the pivots, are more numerically robust. "
   ]
  },
  {
   "cell_type": "markdown",
   "metadata": {},
   "source": [
    "We can have only changes of rows (*partial pivoting*) or changes of both rows and columns (*complete pivoting*). In particular:\n",
    "\n",
    "- a change of rows corresponds to a multiplication by a permutation matrix on the left: $A \\rightarrow PA$;\n",
    "- a change of both rows and columns corresponds to a multiplication by a permutation matrix on the left and one on the right: $A \\rightarrow PAQ$.\n",
    "\n",
    "In this case, we won't have $A=LU$, but:\n",
    "- $PA=LU$;\n",
    "- or $PAQ=LU$,\n",
    "\n",
    "where $P$ and $Q$ are combinations of different *permutation* matrices."
   ]
  },
  {
   "cell_type": "markdown",
   "metadata": {},
   "source": [
    "**Permutation matrices**\n",
    "\n",
    "The matrix representing the application that swaps rows $i$ and $j$ of a column vector $x$ is obtained by swapping rows $i$ and $j$ of the identity matrix: "
   ]
  },
  {
   "cell_type": "code",
   "execution_count": 32,
   "metadata": {},
   "outputs": [],
   "source": [
    "def perm(i, j, n):\n",
    "\t'''\n",
    "\tImplementation of a permutation matrix\n",
    "\t'''\n",
    "\n",
    "\tP = np.eye(n)\n",
    "\tP[[i, j], :] = P[[j, i], :] ## take attention to this!\n",
    "\n",
    "\treturn P"
   ]
  },
  {
   "cell_type": "code",
   "execution_count": 35,
   "metadata": {},
   "outputs": [
    {
     "data": {
      "text/plain": [
       "<matplotlib.image.AxesImage at 0x2279b0e7110>"
      ]
     },
     "execution_count": 35,
     "metadata": {},
     "output_type": "execute_result"
    },
    {
     "data": {
      "image/png": "[encoded data removed]",
      "text/plain": [
       "<Figure size 640x480 with 1 Axes>"
      ]
     },
     "metadata": {},
     "output_type": "display_data"
    }
   ],
   "source": [
    "plt.imshow(perm(0, 1, n)@A)"
   ]
  },
  {
   "cell_type": "code",
   "execution_count": null,
   "metadata": {},
   "outputs": [
    {
     "name": "stdout",
     "output_type": "stream",
     "text": [
      "Permute rows 1 and 2 of\n",
      " [[ 1.000e+00  0.000e+00  0.000e+00  0.000e+00  0.000e+00  0.000e+00\n",
      "   0.000e+00  0.000e+00  0.000e+00  0.000e+00  0.000e+00  0.000e+00\n",
      "   0.000e+00  0.000e+00  0.000e+00  0.000e+00  0.000e+00  0.000e+00\n",
      "   0.000e+00  0.000e+00  0.000e+00  0.000e+00  0.000e+00  0.000e+00\n",
      "   0.000e+00  0.000e+00  0.000e+00  0.000e+00  0.000e+00  0.000e+00]\n",
      " [ 0.000e+00  1.682e+03 -8.410e+02  0.000e+00  0.000e+00  0.000e+00\n",
      "   0.000e+00  0.000e+00  0.000e+00  0.000e+00  0.000e+00  0.000e+00\n",
      "   0.000e+00  0.000e+00  0.000e+00  0.000e+00  0.000e+00  0.000e+00\n",
      "   0.000e+00  0.000e+00  0.000e+00  0.000e+00  0.000e+00  0.000e+00\n",
      "   0.000e+00  0.000e+00  0.000e+00  0.000e+00  0.000e+00  0.000e+00]\n",
      " [ 0.000e+00 -8.410e+02  1.682e+03 -8.410e+02  0.000e+00  0.000e+00\n",
      "   0.000e+00  0.000e+00  0.000e+00  0.000e+00  0.000e+00  0.000e+00\n",
      "   0.000e+00  0.000e+00  0.000e+00  0.000e+00  0.000e+00  0.000e+00\n",
      "   0.000e+00  0.000e+00  0.000e+00  0.000e+00  0.000e+00  0.000e+00\n",
      "   0.000e+00  0.000e+00  0.000e+00  0.000e+00  0.000e+00  0.000e+00]\n",
      " [ 0.000e+00  0.000e+00 -8.410e+02  1.682e+03 -8.410e+02  0.000e+00\n",
      "   0.000e+00  0.000e+00  0.000e+00  0.000e+00  0.000e+00  0.000e+00\n",
      "   0.000e+00  0.000e+00  0.000e+00  0.000e+00  0.000e+00  0.000e+00\n",
      "   0.000e+00  0.000e+00  0.000e+00  0.000e+00  0.000e+00  0.000e+00\n",
      "   0.000e+00  0.000e+00  0.000e+00  0.000e+00  0.000e+00  0.000e+00]\n",
      " [ 0.000e+00  0.000e+00  0.000e+00 -8.410e+02  1.682e+03 -8.410e+02\n",
      "   0.000e+00  0.000e+00  0.000e+00  0.000e+00  0.000e+00  0.000e+00\n",
      "   0.000e+00  0.000e+00  0.000e+00  0.000e+00  0.000e+00  0.000e+00\n",
      "   0.000e+00  0.000e+00  0.000e+00  0.000e+00  0.000e+00  0.000e+00\n",
      "   0.000e+00  0.000e+00  0.000e+00  0.000e+00  0.000e+00  0.000e+00]\n",
      " [ 0.000e+00  0.000e+00  0.000e+00  0.000e+00 -8.410e+02  1.682e+03\n",
      "  -8.410e+02  0.000e+00  0.000e+00  0.000e+00  0.000e+00  0.000e+00\n",
      "   0.000e+00  0.000e+00  0.000e+00  0.000e+00  0.000e+00  0.000e+00\n",
      "   0.000e+00  0.000e+00  0.000e+00  0.000e+00  0.000e+00  0.000e+00\n",
      "   0.000e+00  0.000e+00  0.000e+00  0.000e+00  0.000e+00  0.000e+00]\n",
      " [ 0.000e+00  0.000e+00  0.000e+00  0.000e+00  0.000e+00 -8.410e+02\n",
      "   1.682e+03 -8.410e+02  0.000e+00  0.000e+00  0.000e+00  0.000e+00\n",
      "   0.000e+00  0.000e+00  0.000e+00  0.000e+00  0.000e+00  0.000e+00\n",
      "   0.000e+00  0.000e+00  0.000e+00  0.000e+00  0.000e+00  0.000e+00\n",
      "   0.000e+00  0.000e+00  0.000e+00  0.000e+00  0.000e+00  0.000e+00]\n",
      " [ 0.000e+00  0.000e+00  0.000e+00  0.000e+00  0.000e+00  0.000e+00\n",
      "  -8.410e+02  1.682e+03 -8.410e+02  0.000e+00  0.000e+00  0.000e+00\n",
      "   0.000e+00  0.000e+00  0.000e+00  0.000e+00  0.000e+00  0.000e+00\n",
      "   0.000e+00  0.000e+00  0.000e+00  0.000e+00  0.000e+00  0.000e+00\n",
      "   0.000e+00  0.000e+00  0.000e+00  0.000e+00  0.000e+00  0.000e+00]\n",
      " [ 0.000e+00  0.000e+00  0.000e+00  0.000e+00  0.000e+00  0.000e+00\n",
      "   0.000e+00 -8.410e+02  1.682e+03 -8.410e+02  0.000e+00  0.000e+00\n",
      "   0.000e+00  0.000e+00  0.000e+00  0.000e+00  0.000e+00  0.000e+00\n",
      "   0.000e+00  0.000e+00  0.000e+00  0.000e+00  0.000e+00  0.000e+00\n",
      "   0.000e+00  0.000e+00  0.000e+00  0.000e+00  0.000e+00  0.000e+00]\n",
      " [ 0.000e+00  0.000e+00  0.000e+00  0.000e+00  0.000e+00  0.000e+00\n",
      "   0.000e+00  0.000e+00 -8.410e+02  1.682e+03 -8.410e+02  0.000e+00\n",
      "   0.000e+00  0.000e+00  0.000e+00  0.000e+00  0.000e+00  0.000e+00\n",
      "   0.000e+00  0.000e+00  0.000e+00  0.000e+00  0.000e+00  0.000e+00\n",
      "   0.000e+00  0.000e+00  0.000e+00  0.000e+00  0.000e+00  0.000e+00]\n",
      " [ 0.000e+00  0.000e+00  0.000e+00  0.000e+00  0.000e+00  0.000e+00\n",
      "   0.000e+00  0.000e+00  0.000e+00 -8.410e+02  1.682e+03 -8.410e+02\n",
      "   0.000e+00  0.000e+00  0.000e+00  0.000e+00  0.000e+00  0.000e+00\n",
      "   0.000e+00  0.000e+00  0.000e+00  0.000e+00  0.000e+00  0.000e+00\n",
      "   0.000e+00  0.000e+00  0.000e+00  0.000e+00  0.000e+00  0.000e+00]\n",
      " [ 0.000e+00  0.000e+00  0.000e+00  0.000e+00  0.000e+00  0.000e+00\n",
      "   0.000e+00  0.000e+00  0.000e+00  0.000e+00 -8.410e+02  1.682e+03\n",
      "  -8.410e+02  0.000e+00  0.000e+00  0.000e+00  0.000e+00  0.000e+00\n",
      "   0.000e+00  0.000e+00  0.000e+00  0.000e+00  0.000e+00  0.000e+00\n",
      "   0.000e+00  0.000e+00  0.000e+00  0.000e+00  0.000e+00  0.000e+00]\n",
      " [ 0.000e+00  0.000e+00  0.000e+00  0.000e+00  0.000e+00  0.000e+00\n",
      "   0.000e+00  0.000e+00  0.000e+00  0.000e+00  0.000e+00 -8.410e+02\n",
      "   1.682e+03 -8.410e+02  0.000e+00  0.000e+00  0.000e+00  0.000e+00\n",
      "   0.000e+00  0.000e+00  0.000e+00  0.000e+00  0.000e+00  0.000e+00\n",
      "   0.000e+00  0.000e+00  0.000e+00  0.000e+00  0.000e+00  0.000e+00]\n",
      " [ 0.000e+00  0.000e+00  0.000e+00  0.000e+00  0.000e+00  0.000e+00\n",
      "   0.000e+00  0.000e+00  0.000e+00  0.000e+00  0.000e+00  0.000e+00\n",
      "  -8.410e+02  1.682e+03 -8.410e+02  0.000e+00  0.000e+00  0.000e+00\n",
      "   0.000e+00  0.000e+00  0.000e+00  0.000e+00  0.000e+00  0.000e+00\n",
      "   0.000e+00  0.000e+00  0.000e+00  0.000e+00  0.000e+00  0.000e+00]\n",
      " [ 0.000e+00  0.000e+00  0.000e+00  0.000e+00  0.000e+00  0.000e+00\n",
      "   0.000e+00  0.000e+00  0.000e+00  0.000e+00  0.000e+00  0.000e+00\n",
      "   0.000e+00 -8.410e+02  1.682e+03 -8.410e+02  0.000e+00  0.000e+00\n",
      "   0.000e+00  0.000e+00  0.000e+00  0.000e+00  0.000e+00  0.000e+00\n",
      "   0.000e+00  0.000e+00  0.000e+00  0.000e+00  0.000e+00  0.000e+00]\n",
      " [ 0.000e+00  0.000e+00  0.000e+00  0.000e+00  0.000e+00  0.000e+00\n",
      "   0.000e+00  0.000e+00  0.000e+00  0.000e+00  0.000e+00  0.000e+00\n",
      "   0.000e+00  0.000e+00 -8.410e+02  1.682e+03 -8.410e+02  0.000e+00\n",
      "   0.000e+00  0.000e+00  0.000e+00  0.000e+00  0.000e+00  0.000e+00\n",
      "   0.000e+00  0.000e+00  0.000e+00  0.000e+00  0.000e+00  0.000e+00]\n",
      " [ 0.000e+00  0.000e+00  0.000e+00  0.000e+00  0.000e+00  0.000e+00\n",
      "   0.000e+00  0.000e+00  0.000e+00  0.000e+00  0.000e+00  0.000e+00\n",
      "   0.000e+00  0.000e+00  0.000e+00 -8.410e+02  1.682e+03 -8.410e+02\n",
      "   0.000e+00  0.000e+00  0.000e+00  0.000e+00  0.000e+00  0.000e+00\n",
      "   0.000e+00  0.000e+00  0.000e+00  0.000e+00  0.000e+00  0.000e+00]\n",
      " [ 0.000e+00  0.000e+00  0.000e+00  0.000e+00  0.000e+00  0.000e+00\n",
      "   0.000e+00  0.000e+00  0.000e+00  0.000e+00  0.000e+00  0.000e+00\n",
      "   0.000e+00  0.000e+00  0.000e+00  0.000e+00 -8.410e+02  1.682e+03\n",
      "  -8.410e+02  0.000e+00  0.000e+00  0.000e+00  0.000e+00  0.000e+00\n",
      "   0.000e+00  0.000e+00  0.000e+00  0.000e+00  0.000e+00  0.000e+00]\n",
      " [ 0.000e+00  0.000e+00  0.000e+00  0.000e+00  0.000e+00  0.000e+00\n",
      "   0.000e+00  0.000e+00  0.000e+00  0.000e+00  0.000e+00  0.000e+00\n",
      "   0.000e+00  0.000e+00  0.000e+00  0.000e+00  0.000e+00 -8.410e+02\n",
      "   1.682e+03 -8.410e+02  0.000e+00  0.000e+00  0.000e+00  0.000e+00\n",
      "   0.000e+00  0.000e+00  0.000e+00  0.000e+00  0.000e+00  0.000e+00]\n",
      " [ 0.000e+00  0.000e+00  0.000e+00  0.000e+00  0.000e+00  0.000e+00\n",
      "   0.000e+00  0.000e+00  0.000e+00  0.000e+00  0.000e+00  0.000e+00\n",
      "   0.000e+00  0.000e+00  0.000e+00  0.000e+00  0.000e+00  0.000e+00\n",
      "  -8.410e+02  1.682e+03 -8.410e+02  0.000e+00  0.000e+00  0.000e+00\n",
      "   0.000e+00  0.000e+00  0.000e+00  0.000e+00  0.000e+00  0.000e+00]\n",
      " [ 0.000e+00  0.000e+00  0.000e+00  0.000e+00  0.000e+00  0.000e+00\n",
      "   0.000e+00  0.000e+00  0.000e+00  0.000e+00  0.000e+00  0.000e+00\n",
      "   0.000e+00  0.000e+00  0.000e+00  0.000e+00  0.000e+00  0.000e+00\n",
      "   0.000e+00 -8.410e+02  1.682e+03 -8.410e+02  0.000e+00  0.000e+00\n",
      "   0.000e+00  0.000e+00  0.000e+00  0.000e+00  0.000e+00  0.000e+00]\n",
      " [ 0.000e+00  0.000e+00  0.000e+00  0.000e+00  0.000e+00  0.000e+00\n",
      "   0.000e+00  0.000e+00  0.000e+00  0.000e+00  0.000e+00  0.000e+00\n",
      "   0.000e+00  0.000e+00  0.000e+00  0.000e+00  0.000e+00  0.000e+00\n",
      "   0.000e+00  0.000e+00 -8.410e+02  1.682e+03 -8.410e+02  0.000e+00\n",
      "   0.000e+00  0.000e+00  0.000e+00  0.000e+00  0.000e+00  0.000e+00]\n",
      " [ 0.000e+00  0.000e+00  0.000e+00  0.000e+00  0.000e+00  0.000e+00\n",
      "   0.000e+00  0.000e+00  0.000e+00  0.000e+00  0.000e+00  0.000e+00\n",
      "   0.000e+00  0.000e+00  0.000e+00  0.000e+00  0.000e+00  0.000e+00\n",
      "   0.000e+00  0.000e+00  0.000e+00 -8.410e+02  1.682e+03 -8.410e+02\n",
      "   0.000e+00  0.000e+00  0.000e+00  0.000e+00  0.000e+00  0.000e+00]\n",
      " [ 0.000e+00  0.000e+00  0.000e+00  0.000e+00  0.000e+00  0.000e+00\n",
      "   0.000e+00  0.000e+00  0.000e+00  0.000e+00  0.000e+00  0.000e+00\n",
      "   0.000e+00  0.000e+00  0.000e+00  0.000e+00  0.000e+00  0.000e+00\n",
      "   0.000e+00  0.000e+00  0.000e+00  0.000e+00 -8.410e+02  1.682e+03\n",
      "  -8.410e+02  0.000e+00  0.000e+00  0.000e+00  0.000e+00  0.000e+00]\n",
      " [ 0.000e+00  0.000e+00  0.000e+00  0.000e+00  0.000e+00  0.000e+00\n",
      "   0.000e+00  0.000e+00  0.000e+00  0.000e+00  0.000e+00  0.000e+00\n",
      "   0.000e+00  0.000e+00  0.000e+00  0.000e+00  0.000e+00  0.000e+00\n",
      "   0.000e+00  0.000e+00  0.000e+00  0.000e+00  0.000e+00 -8.410e+02\n",
      "   1.682e+03 -8.410e+02  0.000e+00  0.000e+00  0.000e+00  0.000e+00]\n",
      " [ 0.000e+00  0.000e+00  0.000e+00  0.000e+00  0.000e+00  0.000e+00\n",
      "   0.000e+00  0.000e+00  0.000e+00  0.000e+00  0.000e+00  0.000e+00\n",
      "   0.000e+00  0.000e+00  0.000e+00  0.000e+00  0.000e+00  0.000e+00\n",
      "   0.000e+00  0.000e+00  0.000e+00  0.000e+00  0.000e+00  0.000e+00\n",
      "  -8.410e+02  1.682e+03 -8.410e+02  0.000e+00  0.000e+00  0.000e+00]\n",
      " [ 0.000e+00  0.000e+00  0.000e+00  0.000e+00  0.000e+00  0.000e+00\n",
      "   0.000e+00  0.000e+00  0.000e+00  0.000e+00  0.000e+00  0.000e+00\n",
      "   0.000e+00  0.000e+00  0.000e+00  0.000e+00  0.000e+00  0.000e+00\n",
      "   0.000e+00  0.000e+00  0.000e+00  0.000e+00  0.000e+00  0.000e+00\n",
      "   0.000e+00 -8.410e+02  1.682e+03 -8.410e+02  0.000e+00  0.000e+00]\n",
      " [ 0.000e+00  0.000e+00  0.000e+00  0.000e+00  0.000e+00  0.000e+00\n",
      "   0.000e+00  0.000e+00  0.000e+00  0.000e+00  0.000e+00  0.000e+00\n",
      "   0.000e+00  0.000e+00  0.000e+00  0.000e+00  0.000e+00  0.000e+00\n",
      "   0.000e+00  0.000e+00  0.000e+00  0.000e+00  0.000e+00  0.000e+00\n",
      "   0.000e+00  0.000e+00 -8.410e+02  1.682e+03 -8.410e+02  0.000e+00]\n",
      " [ 0.000e+00  0.000e+00  0.000e+00  0.000e+00  0.000e+00  0.000e+00\n",
      "   0.000e+00  0.000e+00  0.000e+00  0.000e+00  0.000e+00  0.000e+00\n",
      "   0.000e+00  0.000e+00  0.000e+00  0.000e+00  0.000e+00  0.000e+00\n",
      "   0.000e+00  0.000e+00  0.000e+00  0.000e+00  0.000e+00  0.000e+00\n",
      "   0.000e+00  0.000e+00  0.000e+00 -8.410e+02  1.682e+03  0.000e+00]\n",
      " [ 0.000e+00  0.000e+00  0.000e+00  0.000e+00  0.000e+00  0.000e+00\n",
      "   0.000e+00  0.000e+00  0.000e+00  0.000e+00  0.000e+00  0.000e+00\n",
      "   0.000e+00  0.000e+00  0.000e+00  0.000e+00  0.000e+00  0.000e+00\n",
      "   0.000e+00  0.000e+00  0.000e+00  0.000e+00  0.000e+00  0.000e+00\n",
      "   0.000e+00  0.000e+00  0.000e+00  0.000e+00  0.000e+00  1.000e+00]]\n"
     ]
    },
    {
     "ename": "ValueError",
     "evalue": "matmul: Input operand 1 has a mismatch in its core dimension 0, with gufunc signature (n?,k),(k,m?)->(n?,m?) (size 30 is different from 5)",
     "output_type": "error",
     "traceback": [
      "\u001b[31m---------------------------------------------------------------------------\u001b[39m",
      "\u001b[31mValueError\u001b[39m                                Traceback (most recent call last)",
      "\u001b[36mCell\u001b[39m\u001b[36m \u001b[39m\u001b[32mIn[34]\u001b[39m\u001b[32m, line 2\u001b[39m\n\u001b[32m      1\u001b[39m \u001b[38;5;28mprint\u001b[39m(\u001b[33m\"\u001b[39m\u001b[33mPermute rows 1 and 2 of\u001b[39m\u001b[38;5;130;01m\\n\u001b[39;00m\u001b[33m\"\u001b[39m,A)\n\u001b[32m----> \u001b[39m\u001b[32m2\u001b[39m \u001b[38;5;28mprint\u001b[39m(\u001b[33m\"\u001b[39m\u001b[33mResult\u001b[39m\u001b[38;5;130;01m\\n\u001b[39;00m\u001b[33m\"\u001b[39m, \u001b[43mperm\u001b[49m\u001b[43m(\u001b[49m\u001b[32;43m0\u001b[39;49m\u001b[43m,\u001b[49m\u001b[43m \u001b[49m\u001b[32;43m1\u001b[39;49m\u001b[43m,\u001b[49m\u001b[43m \u001b[49m\u001b[32;43m5\u001b[39;49m\u001b[43m)\u001b[49m\u001b[38;5;129;43m@A\u001b[39;49m)\n",
      "\u001b[31mValueError\u001b[39m: matmul: Input operand 1 has a mismatch in its core dimension 0, with gufunc signature (n?,k),(k,m?)->(n?,m?) (size 30 is different from 5)"
     ]
    }
   ],
   "source": [
    "print(\"Permute rows 1 and 2 of\\n\",A)\n",
    "print(\"Result\\n\", perm(0, 1, 5)@A)"
   ]
  },
  {
   "cell_type": "markdown",
   "metadata": {},
   "source": [
    "We perform here an **LU factorization with partial pivoting**, i.e. we find matrices `( P, L, U )` such that $PA=LU$.\n",
    "\n",
    "The algorithm proceeds column by column, performing three main operations at each step:\n",
    "\n",
    "1. **Pivot selection and permutation**\n",
    "\n",
    "At step $k$, we find the row `idmax` where the absolute value of the element in column $k$ (from row $k$ downward) is largest.\n",
    "This ensures numerical stability by placing the largest available pivot on the diagonal.\n",
    "\n",
    "A **permutation matrix** $P_k$ is then created to swap the current row $k$ with the pivot row `idmax`.\n",
    "We update:\n",
    "\n",
    "$$\n",
    "U \\leftarrow P_k U, \\quad\n",
    "P \\leftarrow P_k P, \\quad\n",
    "L \\leftarrow P_k L P_k,\n",
    "$$\n",
    "\n",
    "so that all matrices remain consistent with the row reordering.\n",
    "\n",
    "2. **Elimination below the pivot**\n",
    "\n",
    "Once the pivot is in place, we eliminate the entries below $u_{kk}$.\n",
    "For each row $i>k$:\n",
    "\n",
    "$$\n",
    "L_{ik} = \\frac{U_{ik}}{U_{kk}}, \\quad\n",
    "U_{i, k:} \\leftarrow U_{i, k:} - L_{ik} U_{k, k:}.\n",
    "$$\n",
    "\n",
    "This stores the elimination multipliers in the lower part of $L$, while transforming $U$ toward upper-triangular form.\n",
    "\n",
    "3. **Completion of the decomposition**\n",
    "\n",
    "After processing all columns:\n",
    "\n",
    "* $U$ is **upper triangular**.\n",
    "* $L$ is **unit lower triangular** (with ones on the diagonal and the multipliers below it). It contains the elimination factors.\n",
    "* $P$ records the **cumulative effect of all row swaps** (product of all permutation matrices $P_k$).\n",
    "\n",
    "The final relationship produced by the algorithm is $PA=LU$.\n",
    "\n",
    "We can then implement the algorithm:"
   ]
  },
  {
   "cell_type": "code",
   "execution_count": 36,
   "metadata": {},
   "outputs": [],
   "source": [
    "def PALU(A):\n",
    "    '''\n",
    "    Implementation of LU decomposition with pivoting\n",
    "    '''\n",
    "    assert A.shape[1] == A.shape[0]\n",
    "    n = A.shape[1]\n",
    "\n",
    "    L = np.eye(n)\n",
    "    P = np.eye(n)\n",
    "    U = A.copy().astype(float)\n",
    "\n",
    "    for k in range(n - 1):\n",
    "        # Pivoting: find the index of the max element in column k (below or on the diagonal)\n",
    "        idmax = np.argmax(np.abs(U[k:, k])) + k\n",
    "        # complete here\n",
    "\n",
    "        # Permutation matrix for this step\n",
    "        if idmax != k:\n",
    "            Pk = perm(k, idmax, n)\n",
    "            P = Pk @ P\n",
    "            U = Pk @ U @ Pk\n",
    "            L = Pk @ L @ Pk  # Adjust L to keep consistency\n",
    "\n",
    "        # Check for null pivot\n",
    "        if abs(U[k, k]) < 1e-15:\n",
    "            raise RuntimeError(\"Null pivot\")\n",
    "\n",
    "        # Elimination below the pivot\n",
    "        for i in range(k + 1, n):\n",
    "            factor = U[i, k] / U[k, k]\n",
    "            U[i, k:] -= factor * U[k, k:]\n",
    "            L[i, k] = factor\n",
    "\n",
    "    return P, L, U"
   ]
  },
  {
   "cell_type": "markdown",
   "metadata": {},
   "source": [
    "Let's apply the method to a test case where standard Gaussian elimination without pivoting cannot be applied."
   ]
  },
  {
   "cell_type": "code",
   "execution_count": 37,
   "metadata": {},
   "outputs": [
    {
     "name": "stdout",
     "output_type": "stream",
     "text": [
      "A =\n",
      " [[ 0.  2.  1.]\n",
      " [ 1. -2. -3.]\n",
      " [-1.  1.  2.]]\n",
      "\n",
      "P =\n",
      " [[0. 1. 0.]\n",
      " [1. 0. 0.]\n",
      " [0. 0. 1.]]\n",
      "\n",
      "L =\n",
      " [[ 1.   0.   0. ]\n",
      " [-1.   1.   0. ]\n",
      " [-0.5 -0.5  1. ]]\n",
      "\n",
      "U =\n",
      " [[-2.   1.  -3. ]\n",
      " [ 0.   1.  -2. ]\n",
      " [ 0.   0.  -0.5]]\n",
      "\n",
      "Check: PA = LU → False\n",
      "\n",
      "Solution x =\n",
      " [  6. -19. -11.]\n"
     ]
    }
   ],
   "source": [
    "A = np.array([\n",
    "    [0., 2., 1.],\n",
    "    [1., -2., -3.],\n",
    "    [-1., 1., 2.]\n",
    "])\n",
    "b = np.array([1., 2., 3.])\n",
    "P, L, U = PALU(A)\n",
    "\n",
    "print(\"A =\\n\", A)\n",
    "print(\"\\nP =\\n\", P)\n",
    "print(\"\\nL =\\n\", L)\n",
    "print(\"\\nU =\\n\", U)\n",
    "print(\"\\nCheck: PA = LU →\", np.allclose(P @ A, L @ U))\n",
    "\n",
    "# find x solution of Ax=b using the PALU decomposition\n",
    "## YOUR CODE HERE\n",
    "Pb = P @ b\n",
    "w = L_solve(L, Pb)\n",
    "x = U_solve(U, w)\n",
    "print(\"\\nSolution x =\\n\", x)"
   ]
  },
  {
   "cell_type": "markdown",
   "metadata": {},
   "source": [
    "## Additional exercises\n",
    "**Exercise 1.** Let us consider the linear system $A\\mathbf{x} = \\mathbf{b}$ where\n",
    "$$\n",
    "  A = \n",
    "  \\begin{bmatrix}\n",
    "  \\epsilon & 1 & 2\\\\\n",
    "  1 & 3 & 1 \\\\\n",
    "  2 & 1 & 3 \\\\\n",
    "  \\end{bmatrix}.\n",
    "$$\n",
    "\n",
    "1. Find the range of values of $\\epsilon \\in \\mathbb{R}$ such that the matrix $A$ is symmetric and positive definite.\n",
    "**Suggestion**: use the *Sylvester's criterion* which states that  a symmetric matrix $A \\in \\mathbb{R}^{n \\times n}$ is positive definite if and only if all the main minors (The main minors of $A \\in \\mathbb{R}^{n \\times n}$ are the determinants of the submatrices $A_p = (a_{i,j})_{1 \\leq i, j \\leq p}$, $p = 1, ..., n$). of $A$ are positive.\n",
    "2. What factorization is more suitable for solving the linear system $A\\mathbf{x}=\\mathbf{b}$ for the case $\\epsilon=0$? Motivate the answer.\n",
    "3. Compute the Cholesky factorization $A = R^T R$ for the case $\\epsilon = 2$.\n",
    "4. Given $\\mathbf{b} = (1,1,1)^T$, solve the linear system by using the Cholesky factorization computed at the previous point.\n",
    "\n",
    "**Exercise 2.** Let us consider the following matrix $A \\in \\mathbb R^{3 \\times 3}$ depending on the parameter $\\epsilon \\in \\mathbb R$:\n",
    "$$\n",
    "A =\n",
    "\\begin{bmatrix}\n",
    "1 & \\epsilon & -1 \\\\\n",
    "\\epsilon & \\frac{35}3 & 1 \\\\\n",
    "-1 & \\epsilon & 2 \\\\\n",
    "\\end{bmatrix}.\n",
    "$$\n",
    "\n",
    "\n",
    "\n",
    "1. Calculate the values of the parameter $\\epsilon \\in \\mathbb R$ for which the matrix $A$ is invertible (non singular).\n",
    "\n",
    "2. Calculate the Gauss factorization $LU$ of the matrix $A$ (when non singular) for a generic value of the parameter $\\epsilon \\in \\mathbb R$.\n",
    "\n",
    "3. Calculate the values of the parameter $\\epsilon \\in \\mathbb R$ for which the Gauss factorization $LU$ of the matrix $A$  (when non singular) exists and is unique.\n",
    "\n",
    "4. Set $\\epsilon = \\sqrt{\\frac{35}3}$ and use the pivoting technique to calculate the Gauss factorization $LU$ of the matrix $A$.\n",
    "\n",
    "5. For $\\epsilon=1$, the matrix $A$ is symmetric and positive definite. Calculate the corresponding Cholesky factorization of the matrix $A$, i.e. the upper triangular matrix with positive elements on the diagonal, say $R$, for which $A = R^T R$."
   ]
  },
  {
   "cell_type": "code",
   "execution_count": null,
   "metadata": {},
   "outputs": [],
   "source": []
  }
 ],
 "metadata": {
  "colab": {
   "provenance": []
  },
  "kernelspec": {
   "display_name": ".venv (3.13.9)",
   "language": "python",
   "name": "python3"
  },
  "language_info": {
   "codemirror_mode": {
    "name": "ipython",
    "version": 3
   },
   "file_extension": ".py",
   "mimetype": "text/x-python",
   "name": "python",
   "nbconvert_exporter": "python",
   "pygments_lexer": "ipython3",
   "version": "3.13.9"
  }
 },
 "nbformat": 4,
 "nbformat_minor": 4
}
